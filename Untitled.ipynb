{
 "cells": [
  {
   "cell_type": "markdown",
   "id": "dc4a327d",
   "metadata": {},
   "source": [
    "# Data-Science-Project-Glassdoor-job-Data"
   ]
  },
  {
   "cell_type": "code",
   "execution_count": 1,
   "id": "36905a07",
   "metadata": {},
   "outputs": [],
   "source": [
    "#Let us import the necessary libraries.\n",
    "import numpy as np\n",
    "import pandas as pd\n",
    "import matplotlib.pyplot as plt\n",
    "import seaborn as sns\n"
   ]
  },
  {
   "cell_type": "markdown",
   "id": "f814ebc1",
   "metadata": {},
   "source": [
    "# Data Wrangling"
   ]
  },
  {
   "cell_type": "code",
   "execution_count": 2,
   "id": "8f178f87",
   "metadata": {},
   "outputs": [
    {
     "data": {
      "text/html": [
       "<div>\n",
       "<style scoped>\n",
       "    .dataframe tbody tr th:only-of-type {\n",
       "        vertical-align: middle;\n",
       "    }\n",
       "\n",
       "    .dataframe tbody tr th {\n",
       "        vertical-align: top;\n",
       "    }\n",
       "\n",
       "    .dataframe thead th {\n",
       "        text-align: right;\n",
       "    }\n",
       "</style>\n",
       "<table border=\"1\" class=\"dataframe\">\n",
       "  <thead>\n",
       "    <tr style=\"text-align: right;\">\n",
       "      <th></th>\n",
       "      <th>Unnamed: 0</th>\n",
       "      <th>Job Title</th>\n",
       "      <th>Salary Estimate</th>\n",
       "      <th>Job Description</th>\n",
       "      <th>Rating</th>\n",
       "      <th>Company Name</th>\n",
       "      <th>Location</th>\n",
       "      <th>Headquarters</th>\n",
       "      <th>Size</th>\n",
       "      <th>Founded</th>\n",
       "      <th>Type of ownership</th>\n",
       "      <th>Industry</th>\n",
       "      <th>Sector</th>\n",
       "      <th>Revenue</th>\n",
       "      <th>Competitors</th>\n",
       "    </tr>\n",
       "  </thead>\n",
       "  <tbody>\n",
       "    <tr>\n",
       "      <th>0</th>\n",
       "      <td>0</td>\n",
       "      <td>Data Scientist</td>\n",
       "      <td>$53K-$91K (Glassdoor est.)</td>\n",
       "      <td>Data Scientist\\r\\nLocation: Albuquerque, NM\\r\\...</td>\n",
       "      <td>3.8</td>\n",
       "      <td>Tecolote Research\\r\\n3.8</td>\n",
       "      <td>Albuquerque, NM</td>\n",
       "      <td>Goleta, CA</td>\n",
       "      <td>501 to 1000 employees</td>\n",
       "      <td>1973</td>\n",
       "      <td>Company - Private</td>\n",
       "      <td>Aerospace &amp; Defense</td>\n",
       "      <td>Aerospace &amp; Defense</td>\n",
       "      <td>$50 to $100 million (USD)</td>\n",
       "      <td>-1</td>\n",
       "    </tr>\n",
       "    <tr>\n",
       "      <th>1</th>\n",
       "      <td>1</td>\n",
       "      <td>Healthcare Data Scientist</td>\n",
       "      <td>$63K-$112K (Glassdoor est.)</td>\n",
       "      <td>What You Will Do:\\r\\n\\r\\nI. General Summary\\r\\...</td>\n",
       "      <td>3.4</td>\n",
       "      <td>University of Maryland Medical System\\r\\n3.4</td>\n",
       "      <td>Linthicum, MD</td>\n",
       "      <td>Baltimore, MD</td>\n",
       "      <td>10000+ employees</td>\n",
       "      <td>1984</td>\n",
       "      <td>Other Organization</td>\n",
       "      <td>Health Care Services &amp; Hospitals</td>\n",
       "      <td>Health Care</td>\n",
       "      <td>$2 to $5 billion (USD)</td>\n",
       "      <td>-1</td>\n",
       "    </tr>\n",
       "    <tr>\n",
       "      <th>2</th>\n",
       "      <td>2</td>\n",
       "      <td>Data Scientist</td>\n",
       "      <td>$80K-$90K (Glassdoor est.)</td>\n",
       "      <td>KnowBe4, Inc. is a high growth information sec...</td>\n",
       "      <td>4.8</td>\n",
       "      <td>KnowBe4\\r\\n4.8</td>\n",
       "      <td>Clearwater, FL</td>\n",
       "      <td>Clearwater, FL</td>\n",
       "      <td>501 to 1000 employees</td>\n",
       "      <td>2010</td>\n",
       "      <td>Company - Private</td>\n",
       "      <td>Security Services</td>\n",
       "      <td>Business Services</td>\n",
       "      <td>$100 to $500 million (USD)</td>\n",
       "      <td>-1</td>\n",
       "    </tr>\n",
       "    <tr>\n",
       "      <th>3</th>\n",
       "      <td>3</td>\n",
       "      <td>Data Scientist</td>\n",
       "      <td>$56K-$97K (Glassdoor est.)</td>\n",
       "      <td>*Organization and Job ID**\\r\\nJob ID: 310709\\r...</td>\n",
       "      <td>3.8</td>\n",
       "      <td>PNNL\\r\\n3.8</td>\n",
       "      <td>Richland, WA</td>\n",
       "      <td>Richland, WA</td>\n",
       "      <td>1001 to 5000 employees</td>\n",
       "      <td>1965</td>\n",
       "      <td>Government</td>\n",
       "      <td>Energy</td>\n",
       "      <td>Oil, Gas, Energy &amp; Utilities</td>\n",
       "      <td>$500 million to $1 billion (USD)</td>\n",
       "      <td>Oak Ridge National Laboratory, National Renewa...</td>\n",
       "    </tr>\n",
       "    <tr>\n",
       "      <th>4</th>\n",
       "      <td>4</td>\n",
       "      <td>Data Scientist</td>\n",
       "      <td>$86K-$143K (Glassdoor est.)</td>\n",
       "      <td>Data Scientist\\r\\nAffinity Solutions / Marketi...</td>\n",
       "      <td>2.9</td>\n",
       "      <td>Affinity Solutions\\r\\n2.9</td>\n",
       "      <td>New York, NY</td>\n",
       "      <td>New York, NY</td>\n",
       "      <td>51 to 200 employees</td>\n",
       "      <td>1998</td>\n",
       "      <td>Company - Private</td>\n",
       "      <td>Advertising &amp; Marketing</td>\n",
       "      <td>Business Services</td>\n",
       "      <td>Unknown / Non-Applicable</td>\n",
       "      <td>Commerce Signals, Cardlytics, Yodlee</td>\n",
       "    </tr>\n",
       "  </tbody>\n",
       "</table>\n",
       "</div>"
      ],
      "text/plain": [
       "   Unnamed: 0                  Job Title              Salary Estimate  \\\n",
       "0           0             Data Scientist   $53K-$91K (Glassdoor est.)   \n",
       "1           1  Healthcare Data Scientist  $63K-$112K (Glassdoor est.)   \n",
       "2           2             Data Scientist   $80K-$90K (Glassdoor est.)   \n",
       "3           3             Data Scientist   $56K-$97K (Glassdoor est.)   \n",
       "4           4             Data Scientist  $86K-$143K (Glassdoor est.)   \n",
       "\n",
       "                                     Job Description  Rating  \\\n",
       "0  Data Scientist\\r\\nLocation: Albuquerque, NM\\r\\...     3.8   \n",
       "1  What You Will Do:\\r\\n\\r\\nI. General Summary\\r\\...     3.4   \n",
       "2  KnowBe4, Inc. is a high growth information sec...     4.8   \n",
       "3  *Organization and Job ID**\\r\\nJob ID: 310709\\r...     3.8   \n",
       "4  Data Scientist\\r\\nAffinity Solutions / Marketi...     2.9   \n",
       "\n",
       "                                   Company Name         Location  \\\n",
       "0                      Tecolote Research\\r\\n3.8  Albuquerque, NM   \n",
       "1  University of Maryland Medical System\\r\\n3.4    Linthicum, MD   \n",
       "2                                KnowBe4\\r\\n4.8   Clearwater, FL   \n",
       "3                                   PNNL\\r\\n3.8     Richland, WA   \n",
       "4                     Affinity Solutions\\r\\n2.9     New York, NY   \n",
       "\n",
       "     Headquarters                    Size  Founded   Type of ownership  \\\n",
       "0      Goleta, CA   501 to 1000 employees     1973   Company - Private   \n",
       "1   Baltimore, MD        10000+ employees     1984  Other Organization   \n",
       "2  Clearwater, FL   501 to 1000 employees     2010   Company - Private   \n",
       "3    Richland, WA  1001 to 5000 employees     1965          Government   \n",
       "4    New York, NY     51 to 200 employees     1998   Company - Private   \n",
       "\n",
       "                           Industry                        Sector  \\\n",
       "0               Aerospace & Defense           Aerospace & Defense   \n",
       "1  Health Care Services & Hospitals                   Health Care   \n",
       "2                 Security Services             Business Services   \n",
       "3                            Energy  Oil, Gas, Energy & Utilities   \n",
       "4           Advertising & Marketing             Business Services   \n",
       "\n",
       "                            Revenue  \\\n",
       "0         $50 to $100 million (USD)   \n",
       "1            $2 to $5 billion (USD)   \n",
       "2        $100 to $500 million (USD)   \n",
       "3  $500 million to $1 billion (USD)   \n",
       "4          Unknown / Non-Applicable   \n",
       "\n",
       "                                         Competitors  \n",
       "0                                                 -1  \n",
       "1                                                 -1  \n",
       "2                                                 -1  \n",
       "3  Oak Ridge National Laboratory, National Renewa...  \n",
       "4               Commerce Signals, Cardlytics, Yodlee  "
      ]
     },
     "execution_count": 2,
     "metadata": {},
     "output_type": "execute_result"
    }
   ],
   "source": [
    "#read data from csv file ..... \n",
    "df = pd.read_csv('glassdoor_jobs.csv')\n",
    "df.head()"
   ]
  },
  {
   "cell_type": "code",
   "execution_count": 3,
   "id": "7b60e949",
   "metadata": {},
   "outputs": [
    {
     "name": "stdout",
     "output_type": "stream",
     "text": [
      "<class 'pandas.core.frame.DataFrame'>\n",
      "RangeIndex: 956 entries, 0 to 955\n",
      "Data columns (total 15 columns):\n",
      " #   Column             Non-Null Count  Dtype  \n",
      "---  ------             --------------  -----  \n",
      " 0   Unnamed: 0         956 non-null    int64  \n",
      " 1   Job Title          956 non-null    object \n",
      " 2   Salary Estimate    956 non-null    object \n",
      " 3   Job Description    956 non-null    object \n",
      " 4   Rating             956 non-null    float64\n",
      " 5   Company Name       956 non-null    object \n",
      " 6   Location           956 non-null    object \n",
      " 7   Headquarters       956 non-null    object \n",
      " 8   Size               956 non-null    object \n",
      " 9   Founded            956 non-null    int64  \n",
      " 10  Type of ownership  956 non-null    object \n",
      " 11  Industry           956 non-null    object \n",
      " 12  Sector             956 non-null    object \n",
      " 13  Revenue            956 non-null    object \n",
      " 14  Competitors        956 non-null    object \n",
      "dtypes: float64(1), int64(2), object(12)\n",
      "memory usage: 112.2+ KB\n"
     ]
    }
   ],
   "source": [
    "#Information about dataset\n",
    "df.info()"
   ]
  },
  {
   "cell_type": "code",
   "execution_count": 4,
   "id": "28d3a14e",
   "metadata": {},
   "outputs": [
    {
     "data": {
      "text/plain": [
       "Unnamed: 0             int64\n",
       "Job Title             object\n",
       "Salary Estimate       object\n",
       "Job Description       object\n",
       "Rating               float64\n",
       "Company Name          object\n",
       "Location              object\n",
       "Headquarters          object\n",
       "Size                  object\n",
       "Founded                int64\n",
       "Type of ownership     object\n",
       "Industry              object\n",
       "Sector                object\n",
       "Revenue               object\n",
       "Competitors           object\n",
       "dtype: object"
      ]
     },
     "execution_count": 4,
     "metadata": {},
     "output_type": "execute_result"
    }
   ],
   "source": [
    "# Knowing each data type columns....\n",
    "df.dtypes"
   ]
  },
  {
   "cell_type": "code",
   "execution_count": 5,
   "id": "8a4f5f95",
   "metadata": {},
   "outputs": [
    {
     "data": {
      "text/html": [
       "<div>\n",
       "<style scoped>\n",
       "    .dataframe tbody tr th:only-of-type {\n",
       "        vertical-align: middle;\n",
       "    }\n",
       "\n",
       "    .dataframe tbody tr th {\n",
       "        vertical-align: top;\n",
       "    }\n",
       "\n",
       "    .dataframe thead th {\n",
       "        text-align: right;\n",
       "    }\n",
       "</style>\n",
       "<table border=\"1\" class=\"dataframe\">\n",
       "  <thead>\n",
       "    <tr style=\"text-align: right;\">\n",
       "      <th></th>\n",
       "      <th>Unnamed: 0</th>\n",
       "      <th>Rating</th>\n",
       "      <th>Founded</th>\n",
       "    </tr>\n",
       "  </thead>\n",
       "  <tbody>\n",
       "    <tr>\n",
       "      <th>count</th>\n",
       "      <td>956.000000</td>\n",
       "      <td>956.000000</td>\n",
       "      <td>956.000000</td>\n",
       "    </tr>\n",
       "    <tr>\n",
       "      <th>mean</th>\n",
       "      <td>477.500000</td>\n",
       "      <td>3.601255</td>\n",
       "      <td>1774.605649</td>\n",
       "    </tr>\n",
       "    <tr>\n",
       "      <th>std</th>\n",
       "      <td>276.117729</td>\n",
       "      <td>1.067619</td>\n",
       "      <td>598.942517</td>\n",
       "    </tr>\n",
       "    <tr>\n",
       "      <th>min</th>\n",
       "      <td>0.000000</td>\n",
       "      <td>-1.000000</td>\n",
       "      <td>-1.000000</td>\n",
       "    </tr>\n",
       "    <tr>\n",
       "      <th>25%</th>\n",
       "      <td>238.750000</td>\n",
       "      <td>3.300000</td>\n",
       "      <td>1937.000000</td>\n",
       "    </tr>\n",
       "    <tr>\n",
       "      <th>50%</th>\n",
       "      <td>477.500000</td>\n",
       "      <td>3.800000</td>\n",
       "      <td>1992.000000</td>\n",
       "    </tr>\n",
       "    <tr>\n",
       "      <th>75%</th>\n",
       "      <td>716.250000</td>\n",
       "      <td>4.200000</td>\n",
       "      <td>2008.000000</td>\n",
       "    </tr>\n",
       "    <tr>\n",
       "      <th>max</th>\n",
       "      <td>955.000000</td>\n",
       "      <td>5.000000</td>\n",
       "      <td>2019.000000</td>\n",
       "    </tr>\n",
       "  </tbody>\n",
       "</table>\n",
       "</div>"
      ],
      "text/plain": [
       "       Unnamed: 0      Rating      Founded\n",
       "count  956.000000  956.000000   956.000000\n",
       "mean   477.500000    3.601255  1774.605649\n",
       "std    276.117729    1.067619   598.942517\n",
       "min      0.000000   -1.000000    -1.000000\n",
       "25%    238.750000    3.300000  1937.000000\n",
       "50%    477.500000    3.800000  1992.000000\n",
       "75%    716.250000    4.200000  2008.000000\n",
       "max    955.000000    5.000000  2019.000000"
      ]
     },
     "execution_count": 5,
     "metadata": {},
     "output_type": "execute_result"
    }
   ],
   "source": [
    "# Some statistics from the dataset \n",
    "df.describe()"
   ]
  },
  {
   "cell_type": "markdown",
   "id": "e1a053da",
   "metadata": {},
   "source": [
    "# Data Cleaning"
   ]
  },
  {
   "cell_type": "code",
   "execution_count": 6,
   "id": "35638a9e",
   "metadata": {},
   "outputs": [
    {
     "data": {
      "text/plain": [
       "Unnamed: 0           0\n",
       "Job Title            0\n",
       "Salary Estimate      0\n",
       "Job Description      0\n",
       "Rating               0\n",
       "Company Name         0\n",
       "Location             0\n",
       "Headquarters         0\n",
       "Size                 0\n",
       "Founded              0\n",
       "Type of ownership    0\n",
       "Industry             0\n",
       "Sector               0\n",
       "Revenue              0\n",
       "Competitors          0\n",
       "dtype: int64"
      ]
     },
     "execution_count": 6,
     "metadata": {},
     "output_type": "execute_result"
    }
   ],
   "source": [
    "# view missing value count for dataset......\n",
    "df.isnull().sum()"
   ]
  },
  {
   "cell_type": "code",
   "execution_count": 7,
   "id": "b5f93908",
   "metadata": {},
   "outputs": [
    {
     "data": {
      "text/plain": [
       "0"
      ]
     },
     "execution_count": 7,
     "metadata": {},
     "output_type": "execute_result"
    }
   ],
   "source": [
    "#Ensure that there are no repetitions for dataset.\n",
    "df.duplicated().sum()"
   ]
  },
  {
   "cell_type": "code",
   "execution_count": 8,
   "id": "02058a74",
   "metadata": {},
   "outputs": [
    {
     "data": {
      "text/html": [
       "<div>\n",
       "<style scoped>\n",
       "    .dataframe tbody tr th:only-of-type {\n",
       "        vertical-align: middle;\n",
       "    }\n",
       "\n",
       "    .dataframe tbody tr th {\n",
       "        vertical-align: top;\n",
       "    }\n",
       "\n",
       "    .dataframe thead th {\n",
       "        text-align: right;\n",
       "    }\n",
       "</style>\n",
       "<table border=\"1\" class=\"dataframe\">\n",
       "  <thead>\n",
       "    <tr style=\"text-align: right;\">\n",
       "      <th></th>\n",
       "      <th>unnamed: 0</th>\n",
       "      <th>job title</th>\n",
       "      <th>salary estimate</th>\n",
       "      <th>job description</th>\n",
       "      <th>rating</th>\n",
       "      <th>company name</th>\n",
       "      <th>location</th>\n",
       "      <th>headquarters</th>\n",
       "      <th>size</th>\n",
       "      <th>founded</th>\n",
       "      <th>type of ownership</th>\n",
       "      <th>industry</th>\n",
       "      <th>sector</th>\n",
       "      <th>revenue</th>\n",
       "      <th>competitors</th>\n",
       "    </tr>\n",
       "  </thead>\n",
       "  <tbody>\n",
       "    <tr>\n",
       "      <th>0</th>\n",
       "      <td>0</td>\n",
       "      <td>Data Scientist</td>\n",
       "      <td>$53K-$91K (Glassdoor est.)</td>\n",
       "      <td>Data Scientist\\r\\nLocation: Albuquerque, NM\\r\\...</td>\n",
       "      <td>3.8</td>\n",
       "      <td>Tecolote Research\\r\\n3.8</td>\n",
       "      <td>Albuquerque, NM</td>\n",
       "      <td>Goleta, CA</td>\n",
       "      <td>501 to 1000 employees</td>\n",
       "      <td>1973</td>\n",
       "      <td>Company - Private</td>\n",
       "      <td>Aerospace &amp; Defense</td>\n",
       "      <td>Aerospace &amp; Defense</td>\n",
       "      <td>$50 to $100 million (USD)</td>\n",
       "      <td>-1</td>\n",
       "    </tr>\n",
       "    <tr>\n",
       "      <th>1</th>\n",
       "      <td>1</td>\n",
       "      <td>Healthcare Data Scientist</td>\n",
       "      <td>$63K-$112K (Glassdoor est.)</td>\n",
       "      <td>What You Will Do:\\r\\n\\r\\nI. General Summary\\r\\...</td>\n",
       "      <td>3.4</td>\n",
       "      <td>University of Maryland Medical System\\r\\n3.4</td>\n",
       "      <td>Linthicum, MD</td>\n",
       "      <td>Baltimore, MD</td>\n",
       "      <td>10000+ employees</td>\n",
       "      <td>1984</td>\n",
       "      <td>Other Organization</td>\n",
       "      <td>Health Care Services &amp; Hospitals</td>\n",
       "      <td>Health Care</td>\n",
       "      <td>$2 to $5 billion (USD)</td>\n",
       "      <td>-1</td>\n",
       "    </tr>\n",
       "    <tr>\n",
       "      <th>2</th>\n",
       "      <td>2</td>\n",
       "      <td>Data Scientist</td>\n",
       "      <td>$80K-$90K (Glassdoor est.)</td>\n",
       "      <td>KnowBe4, Inc. is a high growth information sec...</td>\n",
       "      <td>4.8</td>\n",
       "      <td>KnowBe4\\r\\n4.8</td>\n",
       "      <td>Clearwater, FL</td>\n",
       "      <td>Clearwater, FL</td>\n",
       "      <td>501 to 1000 employees</td>\n",
       "      <td>2010</td>\n",
       "      <td>Company - Private</td>\n",
       "      <td>Security Services</td>\n",
       "      <td>Business Services</td>\n",
       "      <td>$100 to $500 million (USD)</td>\n",
       "      <td>-1</td>\n",
       "    </tr>\n",
       "    <tr>\n",
       "      <th>3</th>\n",
       "      <td>3</td>\n",
       "      <td>Data Scientist</td>\n",
       "      <td>$56K-$97K (Glassdoor est.)</td>\n",
       "      <td>*Organization and Job ID**\\r\\nJob ID: 310709\\r...</td>\n",
       "      <td>3.8</td>\n",
       "      <td>PNNL\\r\\n3.8</td>\n",
       "      <td>Richland, WA</td>\n",
       "      <td>Richland, WA</td>\n",
       "      <td>1001 to 5000 employees</td>\n",
       "      <td>1965</td>\n",
       "      <td>Government</td>\n",
       "      <td>Energy</td>\n",
       "      <td>Oil, Gas, Energy &amp; Utilities</td>\n",
       "      <td>$500 million to $1 billion (USD)</td>\n",
       "      <td>Oak Ridge National Laboratory, National Renewa...</td>\n",
       "    </tr>\n",
       "    <tr>\n",
       "      <th>4</th>\n",
       "      <td>4</td>\n",
       "      <td>Data Scientist</td>\n",
       "      <td>$86K-$143K (Glassdoor est.)</td>\n",
       "      <td>Data Scientist\\r\\nAffinity Solutions / Marketi...</td>\n",
       "      <td>2.9</td>\n",
       "      <td>Affinity Solutions\\r\\n2.9</td>\n",
       "      <td>New York, NY</td>\n",
       "      <td>New York, NY</td>\n",
       "      <td>51 to 200 employees</td>\n",
       "      <td>1998</td>\n",
       "      <td>Company - Private</td>\n",
       "      <td>Advertising &amp; Marketing</td>\n",
       "      <td>Business Services</td>\n",
       "      <td>Unknown / Non-Applicable</td>\n",
       "      <td>Commerce Signals, Cardlytics, Yodlee</td>\n",
       "    </tr>\n",
       "  </tbody>\n",
       "</table>\n",
       "</div>"
      ],
      "text/plain": [
       "   unnamed: 0                  job title              salary estimate  \\\n",
       "0           0             Data Scientist   $53K-$91K (Glassdoor est.)   \n",
       "1           1  Healthcare Data Scientist  $63K-$112K (Glassdoor est.)   \n",
       "2           2             Data Scientist   $80K-$90K (Glassdoor est.)   \n",
       "3           3             Data Scientist   $56K-$97K (Glassdoor est.)   \n",
       "4           4             Data Scientist  $86K-$143K (Glassdoor est.)   \n",
       "\n",
       "                                     job description  rating  \\\n",
       "0  Data Scientist\\r\\nLocation: Albuquerque, NM\\r\\...     3.8   \n",
       "1  What You Will Do:\\r\\n\\r\\nI. General Summary\\r\\...     3.4   \n",
       "2  KnowBe4, Inc. is a high growth information sec...     4.8   \n",
       "3  *Organization and Job ID**\\r\\nJob ID: 310709\\r...     3.8   \n",
       "4  Data Scientist\\r\\nAffinity Solutions / Marketi...     2.9   \n",
       "\n",
       "                                   company name         location  \\\n",
       "0                      Tecolote Research\\r\\n3.8  Albuquerque, NM   \n",
       "1  University of Maryland Medical System\\r\\n3.4    Linthicum, MD   \n",
       "2                                KnowBe4\\r\\n4.8   Clearwater, FL   \n",
       "3                                   PNNL\\r\\n3.8     Richland, WA   \n",
       "4                     Affinity Solutions\\r\\n2.9     New York, NY   \n",
       "\n",
       "     headquarters                    size  founded   type of ownership  \\\n",
       "0      Goleta, CA   501 to 1000 employees     1973   Company - Private   \n",
       "1   Baltimore, MD        10000+ employees     1984  Other Organization   \n",
       "2  Clearwater, FL   501 to 1000 employees     2010   Company - Private   \n",
       "3    Richland, WA  1001 to 5000 employees     1965          Government   \n",
       "4    New York, NY     51 to 200 employees     1998   Company - Private   \n",
       "\n",
       "                           industry                        sector  \\\n",
       "0               Aerospace & Defense           Aerospace & Defense   \n",
       "1  Health Care Services & Hospitals                   Health Care   \n",
       "2                 Security Services             Business Services   \n",
       "3                            Energy  Oil, Gas, Energy & Utilities   \n",
       "4           Advertising & Marketing             Business Services   \n",
       "\n",
       "                            revenue  \\\n",
       "0         $50 to $100 million (USD)   \n",
       "1            $2 to $5 billion (USD)   \n",
       "2        $100 to $500 million (USD)   \n",
       "3  $500 million to $1 billion (USD)   \n",
       "4          Unknown / Non-Applicable   \n",
       "\n",
       "                                         competitors  \n",
       "0                                                 -1  \n",
       "1                                                 -1  \n",
       "2                                                 -1  \n",
       "3  Oak Ridge National Laboratory, National Renewa...  \n",
       "4               Commerce Signals, Cardlytics, Yodlee  "
      ]
     },
     "execution_count": 8,
     "metadata": {},
     "output_type": "execute_result"
    }
   ],
   "source": [
    "# lowercase labels for dataset\n",
    "df.rename(columns=lambda x: x.strip().lower(), inplace=True)\n",
    "df.head()"
   ]
  },
  {
   "cell_type": "code",
   "execution_count": 9,
   "id": "9fd9a624",
   "metadata": {},
   "outputs": [],
   "source": [
    "#As we have gathered all the data required from both of these columns, drop them\n",
    "df.drop(labels = ['unnamed: 0'],axis =1 ,inplace = True)"
   ]
  },
  {
   "cell_type": "code",
   "execution_count": 10,
   "id": "6fac9b08",
   "metadata": {},
   "outputs": [
    {
     "data": {
      "text/html": [
       "<div>\n",
       "<style scoped>\n",
       "    .dataframe tbody tr th:only-of-type {\n",
       "        vertical-align: middle;\n",
       "    }\n",
       "\n",
       "    .dataframe tbody tr th {\n",
       "        vertical-align: top;\n",
       "    }\n",
       "\n",
       "    .dataframe thead th {\n",
       "        text-align: right;\n",
       "    }\n",
       "</style>\n",
       "<table border=\"1\" class=\"dataframe\">\n",
       "  <thead>\n",
       "    <tr style=\"text-align: right;\">\n",
       "      <th></th>\n",
       "      <th>job title</th>\n",
       "      <th>salary estimate</th>\n",
       "      <th>job description</th>\n",
       "      <th>rating</th>\n",
       "      <th>company name</th>\n",
       "      <th>location</th>\n",
       "      <th>headquarters</th>\n",
       "      <th>size</th>\n",
       "      <th>founded</th>\n",
       "      <th>type of ownership</th>\n",
       "      <th>industry</th>\n",
       "      <th>sector</th>\n",
       "      <th>revenue</th>\n",
       "      <th>competitors</th>\n",
       "    </tr>\n",
       "  </thead>\n",
       "  <tbody>\n",
       "    <tr>\n",
       "      <th>0</th>\n",
       "      <td>Data Scientist</td>\n",
       "      <td>$53K-$91K (Glassdoor est.)</td>\n",
       "      <td>Data Scientist\\r\\nLocation: Albuquerque, NM\\r\\...</td>\n",
       "      <td>3.8</td>\n",
       "      <td>Tecolote Research\\r\\n3.8</td>\n",
       "      <td>Albuquerque, NM</td>\n",
       "      <td>Goleta, CA</td>\n",
       "      <td>501 to 1000 employees</td>\n",
       "      <td>1973</td>\n",
       "      <td>Company - Private</td>\n",
       "      <td>Aerospace &amp; Defense</td>\n",
       "      <td>Aerospace &amp; Defense</td>\n",
       "      <td>$50 to $100 million (USD)</td>\n",
       "      <td>-1</td>\n",
       "    </tr>\n",
       "    <tr>\n",
       "      <th>1</th>\n",
       "      <td>Healthcare Data Scientist</td>\n",
       "      <td>$63K-$112K (Glassdoor est.)</td>\n",
       "      <td>What You Will Do:\\r\\n\\r\\nI. General Summary\\r\\...</td>\n",
       "      <td>3.4</td>\n",
       "      <td>University of Maryland Medical System\\r\\n3.4</td>\n",
       "      <td>Linthicum, MD</td>\n",
       "      <td>Baltimore, MD</td>\n",
       "      <td>10000+ employees</td>\n",
       "      <td>1984</td>\n",
       "      <td>Other Organization</td>\n",
       "      <td>Health Care Services &amp; Hospitals</td>\n",
       "      <td>Health Care</td>\n",
       "      <td>$2 to $5 billion (USD)</td>\n",
       "      <td>-1</td>\n",
       "    </tr>\n",
       "    <tr>\n",
       "      <th>2</th>\n",
       "      <td>Data Scientist</td>\n",
       "      <td>$80K-$90K (Glassdoor est.)</td>\n",
       "      <td>KnowBe4, Inc. is a high growth information sec...</td>\n",
       "      <td>4.8</td>\n",
       "      <td>KnowBe4\\r\\n4.8</td>\n",
       "      <td>Clearwater, FL</td>\n",
       "      <td>Clearwater, FL</td>\n",
       "      <td>501 to 1000 employees</td>\n",
       "      <td>2010</td>\n",
       "      <td>Company - Private</td>\n",
       "      <td>Security Services</td>\n",
       "      <td>Business Services</td>\n",
       "      <td>$100 to $500 million (USD)</td>\n",
       "      <td>-1</td>\n",
       "    </tr>\n",
       "    <tr>\n",
       "      <th>3</th>\n",
       "      <td>Data Scientist</td>\n",
       "      <td>$56K-$97K (Glassdoor est.)</td>\n",
       "      <td>*Organization and Job ID**\\r\\nJob ID: 310709\\r...</td>\n",
       "      <td>3.8</td>\n",
       "      <td>PNNL\\r\\n3.8</td>\n",
       "      <td>Richland, WA</td>\n",
       "      <td>Richland, WA</td>\n",
       "      <td>1001 to 5000 employees</td>\n",
       "      <td>1965</td>\n",
       "      <td>Government</td>\n",
       "      <td>Energy</td>\n",
       "      <td>Oil, Gas, Energy &amp; Utilities</td>\n",
       "      <td>$500 million to $1 billion (USD)</td>\n",
       "      <td>Oak Ridge National Laboratory, National Renewa...</td>\n",
       "    </tr>\n",
       "    <tr>\n",
       "      <th>4</th>\n",
       "      <td>Data Scientist</td>\n",
       "      <td>$86K-$143K (Glassdoor est.)</td>\n",
       "      <td>Data Scientist\\r\\nAffinity Solutions / Marketi...</td>\n",
       "      <td>2.9</td>\n",
       "      <td>Affinity Solutions\\r\\n2.9</td>\n",
       "      <td>New York, NY</td>\n",
       "      <td>New York, NY</td>\n",
       "      <td>51 to 200 employees</td>\n",
       "      <td>1998</td>\n",
       "      <td>Company - Private</td>\n",
       "      <td>Advertising &amp; Marketing</td>\n",
       "      <td>Business Services</td>\n",
       "      <td>Unknown / Non-Applicable</td>\n",
       "      <td>Commerce Signals, Cardlytics, Yodlee</td>\n",
       "    </tr>\n",
       "  </tbody>\n",
       "</table>\n",
       "</div>"
      ],
      "text/plain": [
       "                   job title              salary estimate  \\\n",
       "0             Data Scientist   $53K-$91K (Glassdoor est.)   \n",
       "1  Healthcare Data Scientist  $63K-$112K (Glassdoor est.)   \n",
       "2             Data Scientist   $80K-$90K (Glassdoor est.)   \n",
       "3             Data Scientist   $56K-$97K (Glassdoor est.)   \n",
       "4             Data Scientist  $86K-$143K (Glassdoor est.)   \n",
       "\n",
       "                                     job description  rating  \\\n",
       "0  Data Scientist\\r\\nLocation: Albuquerque, NM\\r\\...     3.8   \n",
       "1  What You Will Do:\\r\\n\\r\\nI. General Summary\\r\\...     3.4   \n",
       "2  KnowBe4, Inc. is a high growth information sec...     4.8   \n",
       "3  *Organization and Job ID**\\r\\nJob ID: 310709\\r...     3.8   \n",
       "4  Data Scientist\\r\\nAffinity Solutions / Marketi...     2.9   \n",
       "\n",
       "                                   company name         location  \\\n",
       "0                      Tecolote Research\\r\\n3.8  Albuquerque, NM   \n",
       "1  University of Maryland Medical System\\r\\n3.4    Linthicum, MD   \n",
       "2                                KnowBe4\\r\\n4.8   Clearwater, FL   \n",
       "3                                   PNNL\\r\\n3.8     Richland, WA   \n",
       "4                     Affinity Solutions\\r\\n2.9     New York, NY   \n",
       "\n",
       "     headquarters                    size  founded   type of ownership  \\\n",
       "0      Goleta, CA   501 to 1000 employees     1973   Company - Private   \n",
       "1   Baltimore, MD        10000+ employees     1984  Other Organization   \n",
       "2  Clearwater, FL   501 to 1000 employees     2010   Company - Private   \n",
       "3    Richland, WA  1001 to 5000 employees     1965          Government   \n",
       "4    New York, NY     51 to 200 employees     1998   Company - Private   \n",
       "\n",
       "                           industry                        sector  \\\n",
       "0               Aerospace & Defense           Aerospace & Defense   \n",
       "1  Health Care Services & Hospitals                   Health Care   \n",
       "2                 Security Services             Business Services   \n",
       "3                            Energy  Oil, Gas, Energy & Utilities   \n",
       "4           Advertising & Marketing             Business Services   \n",
       "\n",
       "                            revenue  \\\n",
       "0         $50 to $100 million (USD)   \n",
       "1            $2 to $5 billion (USD)   \n",
       "2        $100 to $500 million (USD)   \n",
       "3  $500 million to $1 billion (USD)   \n",
       "4          Unknown / Non-Applicable   \n",
       "\n",
       "                                         competitors  \n",
       "0                                                 -1  \n",
       "1                                                 -1  \n",
       "2                                                 -1  \n",
       "3  Oak Ridge National Laboratory, National Renewa...  \n",
       "4               Commerce Signals, Cardlytics, Yodlee  "
      ]
     },
     "execution_count": 10,
     "metadata": {},
     "output_type": "execute_result"
    }
   ],
   "source": [
    "df.head()"
   ]
  },
  {
   "cell_type": "code",
   "execution_count": 11,
   "id": "163a50b6",
   "metadata": {},
   "outputs": [
    {
     "data": {
      "text/html": [
       "<div>\n",
       "<style scoped>\n",
       "    .dataframe tbody tr th:only-of-type {\n",
       "        vertical-align: middle;\n",
       "    }\n",
       "\n",
       "    .dataframe tbody tr th {\n",
       "        vertical-align: top;\n",
       "    }\n",
       "\n",
       "    .dataframe thead th {\n",
       "        text-align: right;\n",
       "    }\n",
       "</style>\n",
       "<table border=\"1\" class=\"dataframe\">\n",
       "  <thead>\n",
       "    <tr style=\"text-align: right;\">\n",
       "      <th></th>\n",
       "      <th>rating</th>\n",
       "      <th>founded</th>\n",
       "    </tr>\n",
       "  </thead>\n",
       "  <tbody>\n",
       "    <tr>\n",
       "      <th>rating</th>\n",
       "      <td>1.000000</td>\n",
       "      <td>0.484295</td>\n",
       "    </tr>\n",
       "    <tr>\n",
       "      <th>founded</th>\n",
       "      <td>0.484295</td>\n",
       "      <td>1.000000</td>\n",
       "    </tr>\n",
       "  </tbody>\n",
       "</table>\n",
       "</div>"
      ],
      "text/plain": [
       "           rating   founded\n",
       "rating   1.000000  0.484295\n",
       "founded  0.484295  1.000000"
      ]
     },
     "execution_count": 11,
     "metadata": {},
     "output_type": "execute_result"
    }
   ],
   "source": [
    "df.corr()"
   ]
  },
  {
   "cell_type": "code",
   "execution_count": null,
   "id": "b7d6fa3b",
   "metadata": {},
   "outputs": [],
   "source": []
  },
  {
   "cell_type": "code",
   "execution_count": 12,
   "id": "0e1e0811",
   "metadata": {},
   "outputs": [
    {
     "data": {
      "text/plain": [
       "-1                                  214\n",
       "$86K-$143K (Glassdoor est.)           6\n",
       "$54K-$115K (Glassdoor est.)           6\n",
       "$49K-$113K (Glassdoor est.)           6\n",
       "$21-$34 Per Hour(Glassdoor est.)      6\n",
       "                                   ... \n",
       "$74K-$119K (Glassdoor est.)           1\n",
       "$55K-$97K (Glassdoor est.)            1\n",
       "$15K-$16K(Employer est.)              1\n",
       "$61K-$106K (Glassdoor est.)           1\n",
       "$62K-$113K (Glassdoor est.)           1\n",
       "Name: salary estimate, Length: 417, dtype: int64"
      ]
     },
     "execution_count": 12,
     "metadata": {},
     "output_type": "execute_result"
    }
   ],
   "source": [
    "df['salary estimate'].value_counts()"
   ]
  },
  {
   "cell_type": "code",
   "execution_count": 13,
   "id": "e3235247",
   "metadata": {},
   "outputs": [],
   "source": [
    "dd = df[df['salary estimate']!= '-1']"
   ]
  },
  {
   "cell_type": "code",
   "execution_count": 14,
   "id": "d58147f3",
   "metadata": {},
   "outputs": [
    {
     "data": {
      "text/plain": [
       "-1                                  214\n",
       "$86K-$143K (Glassdoor est.)           6\n",
       "$54K-$115K (Glassdoor est.)           6\n",
       "$49K-$113K (Glassdoor est.)           6\n",
       "$21-$34 Per Hour(Glassdoor est.)      6\n",
       "                                   ... \n",
       "$74K-$119K (Glassdoor est.)           1\n",
       "$55K-$97K (Glassdoor est.)            1\n",
       "$15K-$16K(Employer est.)              1\n",
       "$61K-$106K (Glassdoor est.)           1\n",
       "$62K-$113K (Glassdoor est.)           1\n",
       "Name: salary estimate, Length: 417, dtype: int64"
      ]
     },
     "execution_count": 14,
     "metadata": {},
     "output_type": "execute_result"
    }
   ],
   "source": [
    "df['salary estimate'].value_counts()"
   ]
  },
  {
   "cell_type": "code",
   "execution_count": 15,
   "id": "6fa37607",
   "metadata": {},
   "outputs": [],
   "source": [
    "salary = df['salary estimate'].apply(lambda e : e.split('(')[0])"
   ]
  },
  {
   "cell_type": "code",
   "execution_count": 16,
   "id": "5f726406",
   "metadata": {},
   "outputs": [
    {
     "data": {
      "text/plain": [
       "0       $53K-$91K \n",
       "1      $63K-$112K \n",
       "2       $80K-$90K \n",
       "3       $56K-$97K \n",
       "4      $86K-$143K \n",
       "          ...     \n",
       "951    $72K-$133K \n",
       "952     $56K-$91K \n",
       "953    $95K-$160K \n",
       "954             -1\n",
       "955    $61K-$126K \n",
       "Name: salary estimate, Length: 956, dtype: object"
      ]
     },
     "execution_count": 16,
     "metadata": {},
     "output_type": "execute_result"
    }
   ],
   "source": [
    "salary"
   ]
  },
  {
   "cell_type": "code",
   "execution_count": 17,
   "id": "c0e25232",
   "metadata": {},
   "outputs": [],
   "source": [
    "salary = salary.apply(lambda x : x.replace('$' ,'').replace('K',''))"
   ]
  },
  {
   "cell_type": "code",
   "execution_count": 18,
   "id": "e2079033",
   "metadata": {},
   "outputs": [
    {
     "data": {
      "text/plain": [
       "0       53-91 \n",
       "1      63-112 \n",
       "2       80-90 \n",
       "3       56-97 \n",
       "4      86-143 \n",
       "        ...   \n",
       "951    72-133 \n",
       "952     56-91 \n",
       "953    95-160 \n",
       "954         -1\n",
       "955    61-126 \n",
       "Name: salary estimate, Length: 956, dtype: object"
      ]
     },
     "execution_count": 18,
     "metadata": {},
     "output_type": "execute_result"
    }
   ],
   "source": [
    "salary"
   ]
  },
  {
   "cell_type": "code",
   "execution_count": 19,
   "id": "a9033551",
   "metadata": {},
   "outputs": [],
   "source": [
    "salary = salary.apply(lambda x: x.lower().replace('employer provided salary:','').replace('per hour:',''))"
   ]
  },
  {
   "cell_type": "code",
   "execution_count": 20,
   "id": "03aaafac",
   "metadata": {},
   "outputs": [
    {
     "data": {
      "text/plain": [
       "array(['53-91 ', '63-112 ', '80-90 ', '56-97 ', '86-143 ', '71-119 ',\n",
       "       '54-93 ', '86-142 ', '38-84 ', '120-160 ', '126-201 ', '64-106 ',\n",
       "       '106-172 ', '46-85 ', '83-144 ', '102-190 ', '67-137 ', '118-189 ',\n",
       "       '110-175 ', '64-111 ', '81-130 ', '73-119 ', '86-139 ', '63-105 ',\n",
       "       '-1', '109-177 ', '63-110 ', '75-124 ', '34-61 ', '72-120 ',\n",
       "       '93-149 ', '85-140 ', '77-135 ', '82-132 ', '83-137 ', '115-180 ',\n",
       "       '74-138 ', '64-112 ', '68-129 ', '52-113 ', '110-150', '150-160',\n",
       "       '158-211 ', '20-39 ', '56-117 ', '63-99 ', '68-114 ', '41-95 ',\n",
       "       '86-144 ', '80-139 ', '56-95 ', '120-189 ', '111-176 ', '84-146 ',\n",
       "       '107-172 ', '49-85 ', '61-109 ', '88-148 ', '60-99 ', '41-72 ',\n",
       "       '96-161 ', '65-130 ', '52-81 ', '139-220 ', '50-102 ', '85-139 ',\n",
       "       '74-122 ', '99-157 ', '79-222 ', '57-118 ', '86-141 ', '94-154 ',\n",
       "       '37-76 ', '100-160 ', '55-100 ', '60-114 ', '39-68 ', '64-107 ',\n",
       "       '31-65 ', '34-62 ', '117-231 ', '79-134 ', '52-93 ', '55-116 ',\n",
       "       '72-123 ', '74-124 ', '40-73 ', '102-164 ', '89-153 ', '61-110 ',\n",
       "       '65-110 ', '200-275', '68-123 ', '80-129 ', '39-71 ', '38-85 ',\n",
       "       '121-193 ', '54-102 ', '102-163 ', '76-140 ', '60-101 ', '82-133 ',\n",
       "       '65-125 ', '91-148 ', '95-173 ', '77-124 ', '80-135 ', '85-159 ',\n",
       "       '80-105', '43-81 ', '29-50 ', '26-55 ', '61-118 ', '60-102 ',\n",
       "       '112-182 ', '51-112 ', '113-223 ', '72-129 ', '71-123 ', '120-145',\n",
       "       '80-120 ', '80-130 ', '59-115 ', '71-136 ', '81-167 ', '71-204 ',\n",
       "       '75-125 ', '77-136 ', '74-123 ', '44-78 ', '65-148 ', '59-110 ',\n",
       "       '85-134 ', '124-204 ', '131-207 ', '110-174 ', '52-101 ',\n",
       "       '81-133 ', '132-211 ', '74-140 ', '100-190 ', '43-80 ',\n",
       "       '17-24 per hour', '91-149 ', '42-82 ', '116-185 ', '59-116 ',\n",
       "       '48-95 ', '31-72 ', '105-198 ', '98-182 ', '73-124 ', '200-250',\n",
       "       '21-34 per hour', '117-206 ', '111-183 ', '81-159 ', '83-166 ',\n",
       "       '114-182 ', '42-76 ', '114-179 ', '60-123 ', '100-166 ',\n",
       "       '108-173 ', '48-93 ', '54-115 ', '60-127 ', '90-179 ', '138-224 ',\n",
       "       '190-220', '35-62 ', '18-25 per hour', '39-66 ', '42-86 ',\n",
       "       '69-127 ', '40-68 ', '49-113 ', '75-140 ', '66-112 ', '76-125 ',\n",
       "       '44-86 ', '15-25 per hour', '53-92 ', '65-120 ', '60-103 ',\n",
       "       '53-105 ', '33-62 ', '48-90 ', '34-64 ', '66-111 ', '91-138 ',\n",
       "       '62-114 ', '71-129 ', '74-119 ', '55-97 ', '15-16', '61-106 ',\n",
       "       '127-199 ', '74-126 ', '33-72 ', '37-63 ', '67-119 ', '72-117 ',\n",
       "       '78-126 ', '116-194 ', '83-133 ', '45-82 ', '83-135 ', '70-122 ',\n",
       "       '70-132 ', '54-101 ', '68-112 ', '42-74 ', '95-161 ', '76-126 ',\n",
       "       '108-176 ', '130-208 ', '37-68 ', '52-99 ', '105-173 ', '71-134 ',\n",
       "       '39-82 ', '88-162 ', '55-99 ', '67-117 ', '92-150 ', '116-209 ',\n",
       "       '38-82 ', '85-90', '62-119 ', '84-136 ', '52-89 ', '65-119 ',\n",
       "       '63-101 ', '127-202 ', '31-57 ', '75-143 ', '105-194 ', '45-86 ',\n",
       "       '95-154 ', '80-148 ', '36-62 ', '50-92 ', '67-135 ', '42-80 ',\n",
       "       '68-139 ', '34-92 ', '54-71 ', '65-124 ', '109-200 ', '61-113 ',\n",
       "       '43-86 ', '74-149 ', '113-196 ', '97-160 ', '24-39 per hour',\n",
       "       '102-172 ', '108-171 ', '76-142 ', '202-306 ', '49-97 ', '65-134 ',\n",
       "       '32-59 ', '87-158 ', '107-173 ', '56-99 ', '25-28 per hour',\n",
       "       '80-155 ', '43-98 ', '45-78 ', '44-96 ', '50-110 ', '61-119 ',\n",
       "       '100-140', '56-91 ', '101-158 ', '125-210 ', '43-77 ', '139-221 ',\n",
       "       '78-147 ', '37-66 ', '38-64 ', '43-82 ', '90-110', '93-151 ',\n",
       "       '40-101 ', '97-180 ', '81-134 ', '84-157 ', '121-203 ', '52-85 ',\n",
       "       '81-140 ', '83-148 ', '31-55 ', '102-178 ', '110-130', '48-85 ',\n",
       "       '66-123 ', '92-146 ', '21-29 per hour', '10-17 per hour',\n",
       "       '150-239 ', '52-91 ', '82-129', '47-101 ', '49-76 ', '43-88 ',\n",
       "       '124-199 ', '97-181 ', '100-173 ', '53-96 ', '65-96 ', '75-127 ',\n",
       "       '94-139 ', '176-289 ', '92-149 ', '118-188 ', '108-146 ',\n",
       "       '65-106 ', '55-98 ', '94-162 ', '63-120 ', '126-228 ', '80-134 ',\n",
       "       '85-142 ', '87-140 ', '76-127 ', '54-92 ', '61-100 ', '112-179 ',\n",
       "       '63-111 ', '75-126 ', '110-184 ', '76-145 ', '70-118 ', '94-153 ',\n",
       "       '150-180 ', '42-77 ', '47-85 ', '62-112 ', '64-108 ', '89-144 ',\n",
       "       '55-105 ', '135-211 ', '57-80 ', '129-215 ', '63-127 ', '50-89 ',\n",
       "       '71-124 ', '69-121 ', '150-238 ', '77-132 ', '59-112 ', '35-65 ',\n",
       "       '79-147 ', '119-187 ', '90-157 ', '32-62 ', '116-208 ', '102-165 ',\n",
       "       '91-159 ', '80-133 ', '39-69 ', '27-48 ', '36-71 ', '130-206 ',\n",
       "       '99-178 ', '86-137 ', '37-100 ', '58-111 ', '72-133 ', '61-126 ',\n",
       "       '95-160 ', '33-61 ', '69-119 ', '67-127 ', '66-117 ', '50-98 ',\n",
       "       '90-153 ', '100-135', '42-79 ', '84-153 ', '44-73 ', '40-87 ',\n",
       "       '72-142 ', '74-137 ', '57-109 ', '136-208 ', '171-272 ', '65-126 ',\n",
       "       '118-228 ', '113-182 ', '58-104 ', '58-108 ', '81-161 ',\n",
       "       '115-220 ', '71-144 ', '32-57 ', '79-136 ', '48-113 ',\n",
       "       '27-47 per hour', '68-125 ', '39-67 ', '71-135 ', '61-123 ',\n",
       "       '87-141 ', '71-121 ', '72-121 ', '51-88 ', '101-141 ', '79-127 ',\n",
       "       '81-132 ', '120-140', '65-113 ', '59-125 ', '80-142 ', '62-113 '],\n",
       "      dtype=object)"
      ]
     },
     "execution_count": 20,
     "metadata": {},
     "output_type": "execute_result"
    }
   ],
   "source": [
    "salary.unique()"
   ]
  },
  {
   "cell_type": "code",
   "execution_count": 21,
   "id": "88014ff5",
   "metadata": {},
   "outputs": [],
   "source": [
    "df['min_salary'] = salary.apply(lambda t : t.split('-')[0])"
   ]
  },
  {
   "cell_type": "code",
   "execution_count": 22,
   "id": "473a1986",
   "metadata": {},
   "outputs": [],
   "source": [
    "df['max_salary'] = salary.apply(lambda t : t.split('-')[1])"
   ]
  },
  {
   "cell_type": "code",
   "execution_count": 23,
   "id": "4463a677",
   "metadata": {},
   "outputs": [
    {
     "data": {
      "text/plain": [
       "job title             object\n",
       "salary estimate       object\n",
       "job description       object\n",
       "rating               float64\n",
       "company name          object\n",
       "location              object\n",
       "headquarters          object\n",
       "size                  object\n",
       "founded                int64\n",
       "type of ownership     object\n",
       "industry              object\n",
       "sector                object\n",
       "revenue               object\n",
       "competitors           object\n",
       "min_salary            object\n",
       "max_salary            object\n",
       "dtype: object"
      ]
     },
     "execution_count": 23,
     "metadata": {},
     "output_type": "execute_result"
    }
   ],
   "source": [
    "df.dtypes"
   ]
  },
  {
   "cell_type": "code",
   "execution_count": 24,
   "id": "9bd99103",
   "metadata": {},
   "outputs": [
    {
     "data": {
      "text/plain": [
       "job title            0\n",
       "salary estimate      0\n",
       "job description      0\n",
       "rating               0\n",
       "company name         0\n",
       "location             0\n",
       "headquarters         0\n",
       "size                 0\n",
       "founded              0\n",
       "type of ownership    0\n",
       "industry             0\n",
       "sector               0\n",
       "revenue              0\n",
       "competitors          0\n",
       "min_salary           0\n",
       "max_salary           0\n",
       "dtype: int64"
      ]
     },
     "execution_count": 24,
     "metadata": {},
     "output_type": "execute_result"
    }
   ],
   "source": [
    "# view missing value count for dataset......\n",
    "df.isnull().sum()"
   ]
  },
  {
   "cell_type": "code",
   "execution_count": null,
   "id": "795a829d",
   "metadata": {},
   "outputs": [],
   "source": []
  },
  {
   "cell_type": "code",
   "execution_count": null,
   "id": "65dc1d00",
   "metadata": {},
   "outputs": [],
   "source": []
  },
  {
   "cell_type": "code",
   "execution_count": null,
   "id": "bf3ceb43",
   "metadata": {},
   "outputs": [],
   "source": []
  },
  {
   "cell_type": "code",
   "execution_count": 25,
   "id": "9e2d9d77",
   "metadata": {
    "scrolled": true
   },
   "outputs": [
    {
     "data": {
      "text/html": [
       "<div>\n",
       "<style scoped>\n",
       "    .dataframe tbody tr th:only-of-type {\n",
       "        vertical-align: middle;\n",
       "    }\n",
       "\n",
       "    .dataframe tbody tr th {\n",
       "        vertical-align: top;\n",
       "    }\n",
       "\n",
       "    .dataframe thead th {\n",
       "        text-align: right;\n",
       "    }\n",
       "</style>\n",
       "<table border=\"1\" class=\"dataframe\">\n",
       "  <thead>\n",
       "    <tr style=\"text-align: right;\">\n",
       "      <th></th>\n",
       "      <th>job title</th>\n",
       "      <th>salary estimate</th>\n",
       "      <th>job description</th>\n",
       "      <th>rating</th>\n",
       "      <th>company name</th>\n",
       "      <th>location</th>\n",
       "      <th>headquarters</th>\n",
       "      <th>size</th>\n",
       "      <th>founded</th>\n",
       "      <th>type of ownership</th>\n",
       "      <th>industry</th>\n",
       "      <th>sector</th>\n",
       "      <th>revenue</th>\n",
       "      <th>competitors</th>\n",
       "      <th>min_salary</th>\n",
       "      <th>max_salary</th>\n",
       "    </tr>\n",
       "  </thead>\n",
       "  <tbody>\n",
       "    <tr>\n",
       "      <th>0</th>\n",
       "      <td>Data Scientist</td>\n",
       "      <td>$53K-$91K (Glassdoor est.)</td>\n",
       "      <td>Data Scientist\\r\\nLocation: Albuquerque, NM\\r\\...</td>\n",
       "      <td>3.8</td>\n",
       "      <td>Tecolote Research\\r\\n3.8</td>\n",
       "      <td>Albuquerque, NM</td>\n",
       "      <td>Goleta, CA</td>\n",
       "      <td>501 to 1000 employees</td>\n",
       "      <td>1973</td>\n",
       "      <td>Company - Private</td>\n",
       "      <td>Aerospace &amp; Defense</td>\n",
       "      <td>Aerospace &amp; Defense</td>\n",
       "      <td>$50 to $100 million (USD)</td>\n",
       "      <td>-1</td>\n",
       "      <td>53</td>\n",
       "      <td>91</td>\n",
       "    </tr>\n",
       "    <tr>\n",
       "      <th>1</th>\n",
       "      <td>Healthcare Data Scientist</td>\n",
       "      <td>$63K-$112K (Glassdoor est.)</td>\n",
       "      <td>What You Will Do:\\r\\n\\r\\nI. General Summary\\r\\...</td>\n",
       "      <td>3.4</td>\n",
       "      <td>University of Maryland Medical System\\r\\n3.4</td>\n",
       "      <td>Linthicum, MD</td>\n",
       "      <td>Baltimore, MD</td>\n",
       "      <td>10000+ employees</td>\n",
       "      <td>1984</td>\n",
       "      <td>Other Organization</td>\n",
       "      <td>Health Care Services &amp; Hospitals</td>\n",
       "      <td>Health Care</td>\n",
       "      <td>$2 to $5 billion (USD)</td>\n",
       "      <td>-1</td>\n",
       "      <td>63</td>\n",
       "      <td>112</td>\n",
       "    </tr>\n",
       "    <tr>\n",
       "      <th>2</th>\n",
       "      <td>Data Scientist</td>\n",
       "      <td>$80K-$90K (Glassdoor est.)</td>\n",
       "      <td>KnowBe4, Inc. is a high growth information sec...</td>\n",
       "      <td>4.8</td>\n",
       "      <td>KnowBe4\\r\\n4.8</td>\n",
       "      <td>Clearwater, FL</td>\n",
       "      <td>Clearwater, FL</td>\n",
       "      <td>501 to 1000 employees</td>\n",
       "      <td>2010</td>\n",
       "      <td>Company - Private</td>\n",
       "      <td>Security Services</td>\n",
       "      <td>Business Services</td>\n",
       "      <td>$100 to $500 million (USD)</td>\n",
       "      <td>-1</td>\n",
       "      <td>80</td>\n",
       "      <td>90</td>\n",
       "    </tr>\n",
       "    <tr>\n",
       "      <th>3</th>\n",
       "      <td>Data Scientist</td>\n",
       "      <td>$56K-$97K (Glassdoor est.)</td>\n",
       "      <td>*Organization and Job ID**\\r\\nJob ID: 310709\\r...</td>\n",
       "      <td>3.8</td>\n",
       "      <td>PNNL\\r\\n3.8</td>\n",
       "      <td>Richland, WA</td>\n",
       "      <td>Richland, WA</td>\n",
       "      <td>1001 to 5000 employees</td>\n",
       "      <td>1965</td>\n",
       "      <td>Government</td>\n",
       "      <td>Energy</td>\n",
       "      <td>Oil, Gas, Energy &amp; Utilities</td>\n",
       "      <td>$500 million to $1 billion (USD)</td>\n",
       "      <td>Oak Ridge National Laboratory, National Renewa...</td>\n",
       "      <td>56</td>\n",
       "      <td>97</td>\n",
       "    </tr>\n",
       "    <tr>\n",
       "      <th>4</th>\n",
       "      <td>Data Scientist</td>\n",
       "      <td>$86K-$143K (Glassdoor est.)</td>\n",
       "      <td>Data Scientist\\r\\nAffinity Solutions / Marketi...</td>\n",
       "      <td>2.9</td>\n",
       "      <td>Affinity Solutions\\r\\n2.9</td>\n",
       "      <td>New York, NY</td>\n",
       "      <td>New York, NY</td>\n",
       "      <td>51 to 200 employees</td>\n",
       "      <td>1998</td>\n",
       "      <td>Company - Private</td>\n",
       "      <td>Advertising &amp; Marketing</td>\n",
       "      <td>Business Services</td>\n",
       "      <td>Unknown / Non-Applicable</td>\n",
       "      <td>Commerce Signals, Cardlytics, Yodlee</td>\n",
       "      <td>86</td>\n",
       "      <td>143</td>\n",
       "    </tr>\n",
       "  </tbody>\n",
       "</table>\n",
       "</div>"
      ],
      "text/plain": [
       "                   job title              salary estimate  \\\n",
       "0             Data Scientist   $53K-$91K (Glassdoor est.)   \n",
       "1  Healthcare Data Scientist  $63K-$112K (Glassdoor est.)   \n",
       "2             Data Scientist   $80K-$90K (Glassdoor est.)   \n",
       "3             Data Scientist   $56K-$97K (Glassdoor est.)   \n",
       "4             Data Scientist  $86K-$143K (Glassdoor est.)   \n",
       "\n",
       "                                     job description  rating  \\\n",
       "0  Data Scientist\\r\\nLocation: Albuquerque, NM\\r\\...     3.8   \n",
       "1  What You Will Do:\\r\\n\\r\\nI. General Summary\\r\\...     3.4   \n",
       "2  KnowBe4, Inc. is a high growth information sec...     4.8   \n",
       "3  *Organization and Job ID**\\r\\nJob ID: 310709\\r...     3.8   \n",
       "4  Data Scientist\\r\\nAffinity Solutions / Marketi...     2.9   \n",
       "\n",
       "                                   company name         location  \\\n",
       "0                      Tecolote Research\\r\\n3.8  Albuquerque, NM   \n",
       "1  University of Maryland Medical System\\r\\n3.4    Linthicum, MD   \n",
       "2                                KnowBe4\\r\\n4.8   Clearwater, FL   \n",
       "3                                   PNNL\\r\\n3.8     Richland, WA   \n",
       "4                     Affinity Solutions\\r\\n2.9     New York, NY   \n",
       "\n",
       "     headquarters                    size  founded   type of ownership  \\\n",
       "0      Goleta, CA   501 to 1000 employees     1973   Company - Private   \n",
       "1   Baltimore, MD        10000+ employees     1984  Other Organization   \n",
       "2  Clearwater, FL   501 to 1000 employees     2010   Company - Private   \n",
       "3    Richland, WA  1001 to 5000 employees     1965          Government   \n",
       "4    New York, NY     51 to 200 employees     1998   Company - Private   \n",
       "\n",
       "                           industry                        sector  \\\n",
       "0               Aerospace & Defense           Aerospace & Defense   \n",
       "1  Health Care Services & Hospitals                   Health Care   \n",
       "2                 Security Services             Business Services   \n",
       "3                            Energy  Oil, Gas, Energy & Utilities   \n",
       "4           Advertising & Marketing             Business Services   \n",
       "\n",
       "                            revenue  \\\n",
       "0         $50 to $100 million (USD)   \n",
       "1            $2 to $5 billion (USD)   \n",
       "2        $100 to $500 million (USD)   \n",
       "3  $500 million to $1 billion (USD)   \n",
       "4          Unknown / Non-Applicable   \n",
       "\n",
       "                                         competitors min_salary max_salary  \n",
       "0                                                 -1         53        91   \n",
       "1                                                 -1         63       112   \n",
       "2                                                 -1         80        90   \n",
       "3  Oak Ridge National Laboratory, National Renewa...         56        97   \n",
       "4               Commerce Signals, Cardlytics, Yodlee         86       143   "
      ]
     },
     "execution_count": 25,
     "metadata": {},
     "output_type": "execute_result"
    }
   ],
   "source": [
    "df.head()"
   ]
  },
  {
   "cell_type": "code",
   "execution_count": 26,
   "id": "9e7c2f19",
   "metadata": {},
   "outputs": [
    {
     "data": {
      "text/html": [
       "<div>\n",
       "<style scoped>\n",
       "    .dataframe tbody tr th:only-of-type {\n",
       "        vertical-align: middle;\n",
       "    }\n",
       "\n",
       "    .dataframe tbody tr th {\n",
       "        vertical-align: top;\n",
       "    }\n",
       "\n",
       "    .dataframe thead th {\n",
       "        text-align: right;\n",
       "    }\n",
       "</style>\n",
       "<table border=\"1\" class=\"dataframe\">\n",
       "  <thead>\n",
       "    <tr style=\"text-align: right;\">\n",
       "      <th></th>\n",
       "      <th>company name</th>\n",
       "      <th>rating</th>\n",
       "    </tr>\n",
       "  </thead>\n",
       "  <tbody>\n",
       "    <tr>\n",
       "      <th>703</th>\n",
       "      <td>Kronos Bio</td>\n",
       "      <td>-1.0</td>\n",
       "    </tr>\n",
       "    <tr>\n",
       "      <th>583</th>\n",
       "      <td>ALIN</td>\n",
       "      <td>-1.0</td>\n",
       "    </tr>\n",
       "    <tr>\n",
       "      <th>405</th>\n",
       "      <td>Monte Rosa Therapeutics</td>\n",
       "      <td>-1.0</td>\n",
       "    </tr>\n",
       "    <tr>\n",
       "      <th>778</th>\n",
       "      <td>Kronos Bio</td>\n",
       "      <td>-1.0</td>\n",
       "    </tr>\n",
       "    <tr>\n",
       "      <th>331</th>\n",
       "      <td>CA-One Tech Cloud</td>\n",
       "      <td>-1.0</td>\n",
       "    </tr>\n",
       "    <tr>\n",
       "      <th>424</th>\n",
       "      <td>Decode_M</td>\n",
       "      <td>-1.0</td>\n",
       "    </tr>\n",
       "    <tr>\n",
       "      <th>819</th>\n",
       "      <td>Kronos Bio</td>\n",
       "      <td>-1.0</td>\n",
       "    </tr>\n",
       "    <tr>\n",
       "      <th>531</th>\n",
       "      <td>OneThree Biotech</td>\n",
       "      <td>-1.0</td>\n",
       "    </tr>\n",
       "    <tr>\n",
       "      <th>134</th>\n",
       "      <td>Geomagical Labs</td>\n",
       "      <td>-1.0</td>\n",
       "    </tr>\n",
       "    <tr>\n",
       "      <th>121</th>\n",
       "      <td>LEAH Labs</td>\n",
       "      <td>-1.0</td>\n",
       "    </tr>\n",
       "    <tr>\n",
       "      <th>833</th>\n",
       "      <td>WeRide.ai</td>\n",
       "      <td>-1.0</td>\n",
       "    </tr>\n",
       "    <tr>\n",
       "      <th>472</th>\n",
       "      <td>Kronos Bio</td>\n",
       "      <td>-1.0</td>\n",
       "    </tr>\n",
       "    <tr>\n",
       "      <th>114</th>\n",
       "      <td>Bridgerock Data</td>\n",
       "      <td>-1.0</td>\n",
       "    </tr>\n",
       "    <tr>\n",
       "      <th>842</th>\n",
       "      <td>ODSC Hiring Partner</td>\n",
       "      <td>-1.0</td>\n",
       "    </tr>\n",
       "    <tr>\n",
       "      <th>844</th>\n",
       "      <td>Decode_M</td>\n",
       "      <td>-1.0</td>\n",
       "    </tr>\n",
       "    <tr>\n",
       "      <th>847</th>\n",
       "      <td>Point72 Ventures</td>\n",
       "      <td>-1.0</td>\n",
       "    </tr>\n",
       "    <tr>\n",
       "      <th>850</th>\n",
       "      <td>Adyen N.V.</td>\n",
       "      <td>-1.0</td>\n",
       "    </tr>\n",
       "    <tr>\n",
       "      <th>865</th>\n",
       "      <td>SentiLink</td>\n",
       "      <td>-1.0</td>\n",
       "    </tr>\n",
       "    <tr>\n",
       "      <th>584</th>\n",
       "      <td>Monte Rosa Therapeutics</td>\n",
       "      <td>-1.0</td>\n",
       "    </tr>\n",
       "    <tr>\n",
       "      <th>518</th>\n",
       "      <td>Kronos Bio</td>\n",
       "      <td>-1.0</td>\n",
       "    </tr>\n",
       "  </tbody>\n",
       "</table>\n",
       "</div>"
      ],
      "text/plain": [
       "                company name  rating\n",
       "703               Kronos Bio    -1.0\n",
       "583                     ALIN    -1.0\n",
       "405  Monte Rosa Therapeutics    -1.0\n",
       "778               Kronos Bio    -1.0\n",
       "331        CA-One Tech Cloud    -1.0\n",
       "424                 Decode_M    -1.0\n",
       "819               Kronos Bio    -1.0\n",
       "531         OneThree Biotech    -1.0\n",
       "134          Geomagical Labs    -1.0\n",
       "121                LEAH Labs    -1.0\n",
       "833                WeRide.ai    -1.0\n",
       "472               Kronos Bio    -1.0\n",
       "114          Bridgerock Data    -1.0\n",
       "842      ODSC Hiring Partner    -1.0\n",
       "844                 Decode_M    -1.0\n",
       "847         Point72 Ventures    -1.0\n",
       "850               Adyen N.V.    -1.0\n",
       "865                SentiLink    -1.0\n",
       "584  Monte Rosa Therapeutics    -1.0\n",
       "518               Kronos Bio    -1.0"
      ]
     },
     "execution_count": 26,
     "metadata": {},
     "output_type": "execute_result"
    }
   ],
   "source": [
    "df[['company name','rating']].sort_values(by = 'rating' , ascending=True).head(20)"
   ]
  },
  {
   "cell_type": "code",
   "execution_count": 27,
   "id": "b9a86375",
   "metadata": {},
   "outputs": [],
   "source": [
    "df['company_txt'] = df.apply(lambda x : x['company name'] if x['rating']< 0 else  x['company name'][:-4] , axis =1 )"
   ]
  },
  {
   "cell_type": "code",
   "execution_count": null,
   "id": "0bdc056d",
   "metadata": {},
   "outputs": [],
   "source": []
  },
  {
   "cell_type": "code",
   "execution_count": 28,
   "id": "b92c6720",
   "metadata": {},
   "outputs": [
    {
     "data": {
      "text/plain": [
       "New York, NY         78\n",
       "San Francisco, CA    71\n",
       "Cambridge, MA        59\n",
       "Chicago, IL          37\n",
       "Boston, MA           24\n",
       "                     ..\n",
       "Red Bank, NJ          1\n",
       "San Ramon, CA         1\n",
       "Woodinville, WA       1\n",
       "Burlington, MA        1\n",
       "Michigan              1\n",
       "Name: location, Length: 237, dtype: int64"
      ]
     },
     "execution_count": 28,
     "metadata": {},
     "output_type": "execute_result"
    }
   ],
   "source": [
    "df['location'].value_counts()"
   ]
  },
  {
   "cell_type": "code",
   "execution_count": 29,
   "id": "04d66918",
   "metadata": {},
   "outputs": [],
   "source": [
    "df['job_state'] = df['location'].apply(lambda x : x.split(',')[0])"
   ]
  },
  {
   "cell_type": "code",
   "execution_count": 30,
   "id": "4ae339af",
   "metadata": {},
   "outputs": [
    {
     "data": {
      "text/plain": [
       "0      Albuquerque\n",
       "1        Linthicum\n",
       "2       Clearwater\n",
       "3         Richland\n",
       "4         New York\n",
       "          ...     \n",
       "951      Nashville\n",
       "952     Pittsburgh\n",
       "953      Allentown\n",
       "954         Austin\n",
       "955    Beavercreek\n",
       "Name: job_state, Length: 956, dtype: object"
      ]
     },
     "execution_count": 30,
     "metadata": {},
     "output_type": "execute_result"
    }
   ],
   "source": [
    "df['job_state']"
   ]
  },
  {
   "cell_type": "code",
   "execution_count": null,
   "id": "94e00df3",
   "metadata": {},
   "outputs": [],
   "source": []
  },
  {
   "cell_type": "code",
   "execution_count": 31,
   "id": "0bfa776b",
   "metadata": {},
   "outputs": [
    {
     "data": {
      "text/html": [
       "<div>\n",
       "<style scoped>\n",
       "    .dataframe tbody tr th:only-of-type {\n",
       "        vertical-align: middle;\n",
       "    }\n",
       "\n",
       "    .dataframe tbody tr th {\n",
       "        vertical-align: top;\n",
       "    }\n",
       "\n",
       "    .dataframe thead th {\n",
       "        text-align: right;\n",
       "    }\n",
       "</style>\n",
       "<table border=\"1\" class=\"dataframe\">\n",
       "  <thead>\n",
       "    <tr style=\"text-align: right;\">\n",
       "      <th></th>\n",
       "      <th>job title</th>\n",
       "      <th>salary estimate</th>\n",
       "      <th>job description</th>\n",
       "      <th>rating</th>\n",
       "      <th>company name</th>\n",
       "      <th>location</th>\n",
       "      <th>headquarters</th>\n",
       "      <th>size</th>\n",
       "      <th>founded</th>\n",
       "      <th>type of ownership</th>\n",
       "      <th>industry</th>\n",
       "      <th>sector</th>\n",
       "      <th>revenue</th>\n",
       "      <th>competitors</th>\n",
       "      <th>min_salary</th>\n",
       "      <th>max_salary</th>\n",
       "      <th>company_txt</th>\n",
       "      <th>job_state</th>\n",
       "    </tr>\n",
       "  </thead>\n",
       "  <tbody>\n",
       "    <tr>\n",
       "      <th>0</th>\n",
       "      <td>Data Scientist</td>\n",
       "      <td>$53K-$91K (Glassdoor est.)</td>\n",
       "      <td>Data Scientist\\r\\nLocation: Albuquerque, NM\\r\\...</td>\n",
       "      <td>3.8</td>\n",
       "      <td>Tecolote Research\\r\\n3.8</td>\n",
       "      <td>Albuquerque, NM</td>\n",
       "      <td>Goleta, CA</td>\n",
       "      <td>501 to 1000 employees</td>\n",
       "      <td>1973</td>\n",
       "      <td>Company - Private</td>\n",
       "      <td>Aerospace &amp; Defense</td>\n",
       "      <td>Aerospace &amp; Defense</td>\n",
       "      <td>$50 to $100 million (USD)</td>\n",
       "      <td>-1</td>\n",
       "      <td>53</td>\n",
       "      <td>91</td>\n",
       "      <td>Tecolote Research\\r</td>\n",
       "      <td>Albuquerque</td>\n",
       "    </tr>\n",
       "    <tr>\n",
       "      <th>1</th>\n",
       "      <td>Healthcare Data Scientist</td>\n",
       "      <td>$63K-$112K (Glassdoor est.)</td>\n",
       "      <td>What You Will Do:\\r\\n\\r\\nI. General Summary\\r\\...</td>\n",
       "      <td>3.4</td>\n",
       "      <td>University of Maryland Medical System\\r\\n3.4</td>\n",
       "      <td>Linthicum, MD</td>\n",
       "      <td>Baltimore, MD</td>\n",
       "      <td>10000+ employees</td>\n",
       "      <td>1984</td>\n",
       "      <td>Other Organization</td>\n",
       "      <td>Health Care Services &amp; Hospitals</td>\n",
       "      <td>Health Care</td>\n",
       "      <td>$2 to $5 billion (USD)</td>\n",
       "      <td>-1</td>\n",
       "      <td>63</td>\n",
       "      <td>112</td>\n",
       "      <td>University of Maryland Medical System\\r</td>\n",
       "      <td>Linthicum</td>\n",
       "    </tr>\n",
       "    <tr>\n",
       "      <th>2</th>\n",
       "      <td>Data Scientist</td>\n",
       "      <td>$80K-$90K (Glassdoor est.)</td>\n",
       "      <td>KnowBe4, Inc. is a high growth information sec...</td>\n",
       "      <td>4.8</td>\n",
       "      <td>KnowBe4\\r\\n4.8</td>\n",
       "      <td>Clearwater, FL</td>\n",
       "      <td>Clearwater, FL</td>\n",
       "      <td>501 to 1000 employees</td>\n",
       "      <td>2010</td>\n",
       "      <td>Company - Private</td>\n",
       "      <td>Security Services</td>\n",
       "      <td>Business Services</td>\n",
       "      <td>$100 to $500 million (USD)</td>\n",
       "      <td>-1</td>\n",
       "      <td>80</td>\n",
       "      <td>90</td>\n",
       "      <td>KnowBe4\\r</td>\n",
       "      <td>Clearwater</td>\n",
       "    </tr>\n",
       "    <tr>\n",
       "      <th>3</th>\n",
       "      <td>Data Scientist</td>\n",
       "      <td>$56K-$97K (Glassdoor est.)</td>\n",
       "      <td>*Organization and Job ID**\\r\\nJob ID: 310709\\r...</td>\n",
       "      <td>3.8</td>\n",
       "      <td>PNNL\\r\\n3.8</td>\n",
       "      <td>Richland, WA</td>\n",
       "      <td>Richland, WA</td>\n",
       "      <td>1001 to 5000 employees</td>\n",
       "      <td>1965</td>\n",
       "      <td>Government</td>\n",
       "      <td>Energy</td>\n",
       "      <td>Oil, Gas, Energy &amp; Utilities</td>\n",
       "      <td>$500 million to $1 billion (USD)</td>\n",
       "      <td>Oak Ridge National Laboratory, National Renewa...</td>\n",
       "      <td>56</td>\n",
       "      <td>97</td>\n",
       "      <td>PNNL\\r</td>\n",
       "      <td>Richland</td>\n",
       "    </tr>\n",
       "    <tr>\n",
       "      <th>4</th>\n",
       "      <td>Data Scientist</td>\n",
       "      <td>$86K-$143K (Glassdoor est.)</td>\n",
       "      <td>Data Scientist\\r\\nAffinity Solutions / Marketi...</td>\n",
       "      <td>2.9</td>\n",
       "      <td>Affinity Solutions\\r\\n2.9</td>\n",
       "      <td>New York, NY</td>\n",
       "      <td>New York, NY</td>\n",
       "      <td>51 to 200 employees</td>\n",
       "      <td>1998</td>\n",
       "      <td>Company - Private</td>\n",
       "      <td>Advertising &amp; Marketing</td>\n",
       "      <td>Business Services</td>\n",
       "      <td>Unknown / Non-Applicable</td>\n",
       "      <td>Commerce Signals, Cardlytics, Yodlee</td>\n",
       "      <td>86</td>\n",
       "      <td>143</td>\n",
       "      <td>Affinity Solutions\\r</td>\n",
       "      <td>New York</td>\n",
       "    </tr>\n",
       "  </tbody>\n",
       "</table>\n",
       "</div>"
      ],
      "text/plain": [
       "                   job title              salary estimate  \\\n",
       "0             Data Scientist   $53K-$91K (Glassdoor est.)   \n",
       "1  Healthcare Data Scientist  $63K-$112K (Glassdoor est.)   \n",
       "2             Data Scientist   $80K-$90K (Glassdoor est.)   \n",
       "3             Data Scientist   $56K-$97K (Glassdoor est.)   \n",
       "4             Data Scientist  $86K-$143K (Glassdoor est.)   \n",
       "\n",
       "                                     job description  rating  \\\n",
       "0  Data Scientist\\r\\nLocation: Albuquerque, NM\\r\\...     3.8   \n",
       "1  What You Will Do:\\r\\n\\r\\nI. General Summary\\r\\...     3.4   \n",
       "2  KnowBe4, Inc. is a high growth information sec...     4.8   \n",
       "3  *Organization and Job ID**\\r\\nJob ID: 310709\\r...     3.8   \n",
       "4  Data Scientist\\r\\nAffinity Solutions / Marketi...     2.9   \n",
       "\n",
       "                                   company name         location  \\\n",
       "0                      Tecolote Research\\r\\n3.8  Albuquerque, NM   \n",
       "1  University of Maryland Medical System\\r\\n3.4    Linthicum, MD   \n",
       "2                                KnowBe4\\r\\n4.8   Clearwater, FL   \n",
       "3                                   PNNL\\r\\n3.8     Richland, WA   \n",
       "4                     Affinity Solutions\\r\\n2.9     New York, NY   \n",
       "\n",
       "     headquarters                    size  founded   type of ownership  \\\n",
       "0      Goleta, CA   501 to 1000 employees     1973   Company - Private   \n",
       "1   Baltimore, MD        10000+ employees     1984  Other Organization   \n",
       "2  Clearwater, FL   501 to 1000 employees     2010   Company - Private   \n",
       "3    Richland, WA  1001 to 5000 employees     1965          Government   \n",
       "4    New York, NY     51 to 200 employees     1998   Company - Private   \n",
       "\n",
       "                           industry                        sector  \\\n",
       "0               Aerospace & Defense           Aerospace & Defense   \n",
       "1  Health Care Services & Hospitals                   Health Care   \n",
       "2                 Security Services             Business Services   \n",
       "3                            Energy  Oil, Gas, Energy & Utilities   \n",
       "4           Advertising & Marketing             Business Services   \n",
       "\n",
       "                            revenue  \\\n",
       "0         $50 to $100 million (USD)   \n",
       "1            $2 to $5 billion (USD)   \n",
       "2        $100 to $500 million (USD)   \n",
       "3  $500 million to $1 billion (USD)   \n",
       "4          Unknown / Non-Applicable   \n",
       "\n",
       "                                         competitors min_salary max_salary  \\\n",
       "0                                                 -1         53        91    \n",
       "1                                                 -1         63       112    \n",
       "2                                                 -1         80        90    \n",
       "3  Oak Ridge National Laboratory, National Renewa...         56        97    \n",
       "4               Commerce Signals, Cardlytics, Yodlee         86       143    \n",
       "\n",
       "                               company_txt    job_state  \n",
       "0                      Tecolote Research\\r  Albuquerque  \n",
       "1  University of Maryland Medical System\\r    Linthicum  \n",
       "2                                KnowBe4\\r   Clearwater  \n",
       "3                                   PNNL\\r     Richland  \n",
       "4                     Affinity Solutions\\r     New York  "
      ]
     },
     "execution_count": 31,
     "metadata": {},
     "output_type": "execute_result"
    }
   ],
   "source": [
    "df.head()"
   ]
  },
  {
   "cell_type": "code",
   "execution_count": 32,
   "id": "c7308e09",
   "metadata": {},
   "outputs": [],
   "source": [
    "df['same_state'] = df.apply(lambda x: 1 if x.location == x.headquarters else 0, axis = 1)"
   ]
  },
  {
   "cell_type": "code",
   "execution_count": 33,
   "id": "ae298d99",
   "metadata": {},
   "outputs": [
    {
     "data": {
      "text/html": [
       "<div>\n",
       "<style scoped>\n",
       "    .dataframe tbody tr th:only-of-type {\n",
       "        vertical-align: middle;\n",
       "    }\n",
       "\n",
       "    .dataframe tbody tr th {\n",
       "        vertical-align: top;\n",
       "    }\n",
       "\n",
       "    .dataframe thead th {\n",
       "        text-align: right;\n",
       "    }\n",
       "</style>\n",
       "<table border=\"1\" class=\"dataframe\">\n",
       "  <thead>\n",
       "    <tr style=\"text-align: right;\">\n",
       "      <th></th>\n",
       "      <th>job title</th>\n",
       "      <th>salary estimate</th>\n",
       "      <th>job description</th>\n",
       "      <th>rating</th>\n",
       "      <th>company name</th>\n",
       "      <th>location</th>\n",
       "      <th>headquarters</th>\n",
       "      <th>size</th>\n",
       "      <th>founded</th>\n",
       "      <th>type of ownership</th>\n",
       "      <th>industry</th>\n",
       "      <th>sector</th>\n",
       "      <th>revenue</th>\n",
       "      <th>competitors</th>\n",
       "      <th>min_salary</th>\n",
       "      <th>max_salary</th>\n",
       "      <th>company_txt</th>\n",
       "      <th>job_state</th>\n",
       "      <th>same_state</th>\n",
       "    </tr>\n",
       "  </thead>\n",
       "  <tbody>\n",
       "    <tr>\n",
       "      <th>0</th>\n",
       "      <td>Data Scientist</td>\n",
       "      <td>$53K-$91K (Glassdoor est.)</td>\n",
       "      <td>Data Scientist\\r\\nLocation: Albuquerque, NM\\r\\...</td>\n",
       "      <td>3.8</td>\n",
       "      <td>Tecolote Research\\r\\n3.8</td>\n",
       "      <td>Albuquerque, NM</td>\n",
       "      <td>Goleta, CA</td>\n",
       "      <td>501 to 1000 employees</td>\n",
       "      <td>1973</td>\n",
       "      <td>Company - Private</td>\n",
       "      <td>Aerospace &amp; Defense</td>\n",
       "      <td>Aerospace &amp; Defense</td>\n",
       "      <td>$50 to $100 million (USD)</td>\n",
       "      <td>-1</td>\n",
       "      <td>53</td>\n",
       "      <td>91</td>\n",
       "      <td>Tecolote Research\\r</td>\n",
       "      <td>Albuquerque</td>\n",
       "      <td>0</td>\n",
       "    </tr>\n",
       "    <tr>\n",
       "      <th>1</th>\n",
       "      <td>Healthcare Data Scientist</td>\n",
       "      <td>$63K-$112K (Glassdoor est.)</td>\n",
       "      <td>What You Will Do:\\r\\n\\r\\nI. General Summary\\r\\...</td>\n",
       "      <td>3.4</td>\n",
       "      <td>University of Maryland Medical System\\r\\n3.4</td>\n",
       "      <td>Linthicum, MD</td>\n",
       "      <td>Baltimore, MD</td>\n",
       "      <td>10000+ employees</td>\n",
       "      <td>1984</td>\n",
       "      <td>Other Organization</td>\n",
       "      <td>Health Care Services &amp; Hospitals</td>\n",
       "      <td>Health Care</td>\n",
       "      <td>$2 to $5 billion (USD)</td>\n",
       "      <td>-1</td>\n",
       "      <td>63</td>\n",
       "      <td>112</td>\n",
       "      <td>University of Maryland Medical System\\r</td>\n",
       "      <td>Linthicum</td>\n",
       "      <td>0</td>\n",
       "    </tr>\n",
       "    <tr>\n",
       "      <th>2</th>\n",
       "      <td>Data Scientist</td>\n",
       "      <td>$80K-$90K (Glassdoor est.)</td>\n",
       "      <td>KnowBe4, Inc. is a high growth information sec...</td>\n",
       "      <td>4.8</td>\n",
       "      <td>KnowBe4\\r\\n4.8</td>\n",
       "      <td>Clearwater, FL</td>\n",
       "      <td>Clearwater, FL</td>\n",
       "      <td>501 to 1000 employees</td>\n",
       "      <td>2010</td>\n",
       "      <td>Company - Private</td>\n",
       "      <td>Security Services</td>\n",
       "      <td>Business Services</td>\n",
       "      <td>$100 to $500 million (USD)</td>\n",
       "      <td>-1</td>\n",
       "      <td>80</td>\n",
       "      <td>90</td>\n",
       "      <td>KnowBe4\\r</td>\n",
       "      <td>Clearwater</td>\n",
       "      <td>1</td>\n",
       "    </tr>\n",
       "    <tr>\n",
       "      <th>3</th>\n",
       "      <td>Data Scientist</td>\n",
       "      <td>$56K-$97K (Glassdoor est.)</td>\n",
       "      <td>*Organization and Job ID**\\r\\nJob ID: 310709\\r...</td>\n",
       "      <td>3.8</td>\n",
       "      <td>PNNL\\r\\n3.8</td>\n",
       "      <td>Richland, WA</td>\n",
       "      <td>Richland, WA</td>\n",
       "      <td>1001 to 5000 employees</td>\n",
       "      <td>1965</td>\n",
       "      <td>Government</td>\n",
       "      <td>Energy</td>\n",
       "      <td>Oil, Gas, Energy &amp; Utilities</td>\n",
       "      <td>$500 million to $1 billion (USD)</td>\n",
       "      <td>Oak Ridge National Laboratory, National Renewa...</td>\n",
       "      <td>56</td>\n",
       "      <td>97</td>\n",
       "      <td>PNNL\\r</td>\n",
       "      <td>Richland</td>\n",
       "      <td>1</td>\n",
       "    </tr>\n",
       "    <tr>\n",
       "      <th>4</th>\n",
       "      <td>Data Scientist</td>\n",
       "      <td>$86K-$143K (Glassdoor est.)</td>\n",
       "      <td>Data Scientist\\r\\nAffinity Solutions / Marketi...</td>\n",
       "      <td>2.9</td>\n",
       "      <td>Affinity Solutions\\r\\n2.9</td>\n",
       "      <td>New York, NY</td>\n",
       "      <td>New York, NY</td>\n",
       "      <td>51 to 200 employees</td>\n",
       "      <td>1998</td>\n",
       "      <td>Company - Private</td>\n",
       "      <td>Advertising &amp; Marketing</td>\n",
       "      <td>Business Services</td>\n",
       "      <td>Unknown / Non-Applicable</td>\n",
       "      <td>Commerce Signals, Cardlytics, Yodlee</td>\n",
       "      <td>86</td>\n",
       "      <td>143</td>\n",
       "      <td>Affinity Solutions\\r</td>\n",
       "      <td>New York</td>\n",
       "      <td>1</td>\n",
       "    </tr>\n",
       "  </tbody>\n",
       "</table>\n",
       "</div>"
      ],
      "text/plain": [
       "                   job title              salary estimate  \\\n",
       "0             Data Scientist   $53K-$91K (Glassdoor est.)   \n",
       "1  Healthcare Data Scientist  $63K-$112K (Glassdoor est.)   \n",
       "2             Data Scientist   $80K-$90K (Glassdoor est.)   \n",
       "3             Data Scientist   $56K-$97K (Glassdoor est.)   \n",
       "4             Data Scientist  $86K-$143K (Glassdoor est.)   \n",
       "\n",
       "                                     job description  rating  \\\n",
       "0  Data Scientist\\r\\nLocation: Albuquerque, NM\\r\\...     3.8   \n",
       "1  What You Will Do:\\r\\n\\r\\nI. General Summary\\r\\...     3.4   \n",
       "2  KnowBe4, Inc. is a high growth information sec...     4.8   \n",
       "3  *Organization and Job ID**\\r\\nJob ID: 310709\\r...     3.8   \n",
       "4  Data Scientist\\r\\nAffinity Solutions / Marketi...     2.9   \n",
       "\n",
       "                                   company name         location  \\\n",
       "0                      Tecolote Research\\r\\n3.8  Albuquerque, NM   \n",
       "1  University of Maryland Medical System\\r\\n3.4    Linthicum, MD   \n",
       "2                                KnowBe4\\r\\n4.8   Clearwater, FL   \n",
       "3                                   PNNL\\r\\n3.8     Richland, WA   \n",
       "4                     Affinity Solutions\\r\\n2.9     New York, NY   \n",
       "\n",
       "     headquarters                    size  founded   type of ownership  \\\n",
       "0      Goleta, CA   501 to 1000 employees     1973   Company - Private   \n",
       "1   Baltimore, MD        10000+ employees     1984  Other Organization   \n",
       "2  Clearwater, FL   501 to 1000 employees     2010   Company - Private   \n",
       "3    Richland, WA  1001 to 5000 employees     1965          Government   \n",
       "4    New York, NY     51 to 200 employees     1998   Company - Private   \n",
       "\n",
       "                           industry                        sector  \\\n",
       "0               Aerospace & Defense           Aerospace & Defense   \n",
       "1  Health Care Services & Hospitals                   Health Care   \n",
       "2                 Security Services             Business Services   \n",
       "3                            Energy  Oil, Gas, Energy & Utilities   \n",
       "4           Advertising & Marketing             Business Services   \n",
       "\n",
       "                            revenue  \\\n",
       "0         $50 to $100 million (USD)   \n",
       "1            $2 to $5 billion (USD)   \n",
       "2        $100 to $500 million (USD)   \n",
       "3  $500 million to $1 billion (USD)   \n",
       "4          Unknown / Non-Applicable   \n",
       "\n",
       "                                         competitors min_salary max_salary  \\\n",
       "0                                                 -1         53        91    \n",
       "1                                                 -1         63       112    \n",
       "2                                                 -1         80        90    \n",
       "3  Oak Ridge National Laboratory, National Renewa...         56        97    \n",
       "4               Commerce Signals, Cardlytics, Yodlee         86       143    \n",
       "\n",
       "                               company_txt    job_state  same_state  \n",
       "0                      Tecolote Research\\r  Albuquerque           0  \n",
       "1  University of Maryland Medical System\\r    Linthicum           0  \n",
       "2                                KnowBe4\\r   Clearwater           1  \n",
       "3                                   PNNL\\r     Richland           1  \n",
       "4                     Affinity Solutions\\r     New York           1  "
      ]
     },
     "execution_count": 33,
     "metadata": {},
     "output_type": "execute_result"
    }
   ],
   "source": [
    "df.head()"
   ]
  },
  {
   "cell_type": "code",
   "execution_count": null,
   "id": "099d8409",
   "metadata": {},
   "outputs": [],
   "source": []
  },
  {
   "cell_type": "code",
   "execution_count": 34,
   "id": "7c073259",
   "metadata": {},
   "outputs": [],
   "source": [
    "df['age'] = df.founded.apply(lambda x: x if x <1 else 2022 - x)"
   ]
  },
  {
   "cell_type": "code",
   "execution_count": 35,
   "id": "8bee1f7f",
   "metadata": {},
   "outputs": [
    {
     "data": {
      "text/html": [
       "<div>\n",
       "<style scoped>\n",
       "    .dataframe tbody tr th:only-of-type {\n",
       "        vertical-align: middle;\n",
       "    }\n",
       "\n",
       "    .dataframe tbody tr th {\n",
       "        vertical-align: top;\n",
       "    }\n",
       "\n",
       "    .dataframe thead th {\n",
       "        text-align: right;\n",
       "    }\n",
       "</style>\n",
       "<table border=\"1\" class=\"dataframe\">\n",
       "  <thead>\n",
       "    <tr style=\"text-align: right;\">\n",
       "      <th></th>\n",
       "      <th>job title</th>\n",
       "      <th>salary estimate</th>\n",
       "      <th>job description</th>\n",
       "      <th>rating</th>\n",
       "      <th>company name</th>\n",
       "      <th>location</th>\n",
       "      <th>headquarters</th>\n",
       "      <th>size</th>\n",
       "      <th>founded</th>\n",
       "      <th>type of ownership</th>\n",
       "      <th>industry</th>\n",
       "      <th>sector</th>\n",
       "      <th>revenue</th>\n",
       "      <th>competitors</th>\n",
       "      <th>min_salary</th>\n",
       "      <th>max_salary</th>\n",
       "      <th>company_txt</th>\n",
       "      <th>job_state</th>\n",
       "      <th>same_state</th>\n",
       "      <th>age</th>\n",
       "    </tr>\n",
       "  </thead>\n",
       "  <tbody>\n",
       "    <tr>\n",
       "      <th>0</th>\n",
       "      <td>Data Scientist</td>\n",
       "      <td>$53K-$91K (Glassdoor est.)</td>\n",
       "      <td>Data Scientist\\r\\nLocation: Albuquerque, NM\\r\\...</td>\n",
       "      <td>3.8</td>\n",
       "      <td>Tecolote Research\\r\\n3.8</td>\n",
       "      <td>Albuquerque, NM</td>\n",
       "      <td>Goleta, CA</td>\n",
       "      <td>501 to 1000 employees</td>\n",
       "      <td>1973</td>\n",
       "      <td>Company - Private</td>\n",
       "      <td>Aerospace &amp; Defense</td>\n",
       "      <td>Aerospace &amp; Defense</td>\n",
       "      <td>$50 to $100 million (USD)</td>\n",
       "      <td>-1</td>\n",
       "      <td>53</td>\n",
       "      <td>91</td>\n",
       "      <td>Tecolote Research\\r</td>\n",
       "      <td>Albuquerque</td>\n",
       "      <td>0</td>\n",
       "      <td>49</td>\n",
       "    </tr>\n",
       "    <tr>\n",
       "      <th>1</th>\n",
       "      <td>Healthcare Data Scientist</td>\n",
       "      <td>$63K-$112K (Glassdoor est.)</td>\n",
       "      <td>What You Will Do:\\r\\n\\r\\nI. General Summary\\r\\...</td>\n",
       "      <td>3.4</td>\n",
       "      <td>University of Maryland Medical System\\r\\n3.4</td>\n",
       "      <td>Linthicum, MD</td>\n",
       "      <td>Baltimore, MD</td>\n",
       "      <td>10000+ employees</td>\n",
       "      <td>1984</td>\n",
       "      <td>Other Organization</td>\n",
       "      <td>Health Care Services &amp; Hospitals</td>\n",
       "      <td>Health Care</td>\n",
       "      <td>$2 to $5 billion (USD)</td>\n",
       "      <td>-1</td>\n",
       "      <td>63</td>\n",
       "      <td>112</td>\n",
       "      <td>University of Maryland Medical System\\r</td>\n",
       "      <td>Linthicum</td>\n",
       "      <td>0</td>\n",
       "      <td>38</td>\n",
       "    </tr>\n",
       "    <tr>\n",
       "      <th>2</th>\n",
       "      <td>Data Scientist</td>\n",
       "      <td>$80K-$90K (Glassdoor est.)</td>\n",
       "      <td>KnowBe4, Inc. is a high growth information sec...</td>\n",
       "      <td>4.8</td>\n",
       "      <td>KnowBe4\\r\\n4.8</td>\n",
       "      <td>Clearwater, FL</td>\n",
       "      <td>Clearwater, FL</td>\n",
       "      <td>501 to 1000 employees</td>\n",
       "      <td>2010</td>\n",
       "      <td>Company - Private</td>\n",
       "      <td>Security Services</td>\n",
       "      <td>Business Services</td>\n",
       "      <td>$100 to $500 million (USD)</td>\n",
       "      <td>-1</td>\n",
       "      <td>80</td>\n",
       "      <td>90</td>\n",
       "      <td>KnowBe4\\r</td>\n",
       "      <td>Clearwater</td>\n",
       "      <td>1</td>\n",
       "      <td>12</td>\n",
       "    </tr>\n",
       "    <tr>\n",
       "      <th>3</th>\n",
       "      <td>Data Scientist</td>\n",
       "      <td>$56K-$97K (Glassdoor est.)</td>\n",
       "      <td>*Organization and Job ID**\\r\\nJob ID: 310709\\r...</td>\n",
       "      <td>3.8</td>\n",
       "      <td>PNNL\\r\\n3.8</td>\n",
       "      <td>Richland, WA</td>\n",
       "      <td>Richland, WA</td>\n",
       "      <td>1001 to 5000 employees</td>\n",
       "      <td>1965</td>\n",
       "      <td>Government</td>\n",
       "      <td>Energy</td>\n",
       "      <td>Oil, Gas, Energy &amp; Utilities</td>\n",
       "      <td>$500 million to $1 billion (USD)</td>\n",
       "      <td>Oak Ridge National Laboratory, National Renewa...</td>\n",
       "      <td>56</td>\n",
       "      <td>97</td>\n",
       "      <td>PNNL\\r</td>\n",
       "      <td>Richland</td>\n",
       "      <td>1</td>\n",
       "      <td>57</td>\n",
       "    </tr>\n",
       "    <tr>\n",
       "      <th>4</th>\n",
       "      <td>Data Scientist</td>\n",
       "      <td>$86K-$143K (Glassdoor est.)</td>\n",
       "      <td>Data Scientist\\r\\nAffinity Solutions / Marketi...</td>\n",
       "      <td>2.9</td>\n",
       "      <td>Affinity Solutions\\r\\n2.9</td>\n",
       "      <td>New York, NY</td>\n",
       "      <td>New York, NY</td>\n",
       "      <td>51 to 200 employees</td>\n",
       "      <td>1998</td>\n",
       "      <td>Company - Private</td>\n",
       "      <td>Advertising &amp; Marketing</td>\n",
       "      <td>Business Services</td>\n",
       "      <td>Unknown / Non-Applicable</td>\n",
       "      <td>Commerce Signals, Cardlytics, Yodlee</td>\n",
       "      <td>86</td>\n",
       "      <td>143</td>\n",
       "      <td>Affinity Solutions\\r</td>\n",
       "      <td>New York</td>\n",
       "      <td>1</td>\n",
       "      <td>24</td>\n",
       "    </tr>\n",
       "    <tr>\n",
       "      <th>5</th>\n",
       "      <td>Data Scientist</td>\n",
       "      <td>$71K-$119K (Glassdoor est.)</td>\n",
       "      <td>CyrusOne is seeking a talented Data Scientist ...</td>\n",
       "      <td>3.4</td>\n",
       "      <td>CyrusOne\\r\\n3.4</td>\n",
       "      <td>Dallas, TX</td>\n",
       "      <td>Dallas, TX</td>\n",
       "      <td>201 to 500 employees</td>\n",
       "      <td>2000</td>\n",
       "      <td>Company - Public</td>\n",
       "      <td>Real Estate</td>\n",
       "      <td>Real Estate</td>\n",
       "      <td>$1 to $2 billion (USD)</td>\n",
       "      <td>Digital Realty, CoreSite, Equinix</td>\n",
       "      <td>71</td>\n",
       "      <td>119</td>\n",
       "      <td>CyrusOne\\r</td>\n",
       "      <td>Dallas</td>\n",
       "      <td>1</td>\n",
       "      <td>22</td>\n",
       "    </tr>\n",
       "    <tr>\n",
       "      <th>6</th>\n",
       "      <td>Data Scientist</td>\n",
       "      <td>$54K-$93K (Glassdoor est.)</td>\n",
       "      <td>Job Description\\r\\n\\r\\n**Please only local can...</td>\n",
       "      <td>4.1</td>\n",
       "      <td>ClearOne Advantage\\r\\n4.1</td>\n",
       "      <td>Baltimore, MD</td>\n",
       "      <td>Baltimore, MD</td>\n",
       "      <td>501 to 1000 employees</td>\n",
       "      <td>2008</td>\n",
       "      <td>Company - Private</td>\n",
       "      <td>Banks &amp; Credit Unions</td>\n",
       "      <td>Finance</td>\n",
       "      <td>Unknown / Non-Applicable</td>\n",
       "      <td>-1</td>\n",
       "      <td>54</td>\n",
       "      <td>93</td>\n",
       "      <td>ClearOne Advantage\\r</td>\n",
       "      <td>Baltimore</td>\n",
       "      <td>1</td>\n",
       "      <td>14</td>\n",
       "    </tr>\n",
       "    <tr>\n",
       "      <th>7</th>\n",
       "      <td>Data Scientist</td>\n",
       "      <td>$86K-$142K (Glassdoor est.)</td>\n",
       "      <td>Advanced Analytics – Lead Data Scientist\\r\\nOv...</td>\n",
       "      <td>3.8</td>\n",
       "      <td>Logic20/20\\r\\n3.8</td>\n",
       "      <td>San Jose, CA</td>\n",
       "      <td>Seattle, WA</td>\n",
       "      <td>201 to 500 employees</td>\n",
       "      <td>2005</td>\n",
       "      <td>Company - Private</td>\n",
       "      <td>Consulting</td>\n",
       "      <td>Business Services</td>\n",
       "      <td>$25 to $50 million (USD)</td>\n",
       "      <td>-1</td>\n",
       "      <td>86</td>\n",
       "      <td>142</td>\n",
       "      <td>Logic20/20\\r</td>\n",
       "      <td>San Jose</td>\n",
       "      <td>0</td>\n",
       "      <td>17</td>\n",
       "    </tr>\n",
       "    <tr>\n",
       "      <th>8</th>\n",
       "      <td>Research Scientist</td>\n",
       "      <td>$38K-$84K (Glassdoor est.)</td>\n",
       "      <td>SUMMARY\\r\\n\\r\\nThe Research Scientist I will b...</td>\n",
       "      <td>3.3</td>\n",
       "      <td>Rochester Regional Health\\r\\n3.3</td>\n",
       "      <td>Rochester, NY</td>\n",
       "      <td>Rochester, NY</td>\n",
       "      <td>10000+ employees</td>\n",
       "      <td>2014</td>\n",
       "      <td>Hospital</td>\n",
       "      <td>Health Care Services &amp; Hospitals</td>\n",
       "      <td>Health Care</td>\n",
       "      <td>$500 million to $1 billion (USD)</td>\n",
       "      <td>-1</td>\n",
       "      <td>38</td>\n",
       "      <td>84</td>\n",
       "      <td>Rochester Regional Health\\r</td>\n",
       "      <td>Rochester</td>\n",
       "      <td>1</td>\n",
       "      <td>8</td>\n",
       "    </tr>\n",
       "    <tr>\n",
       "      <th>9</th>\n",
       "      <td>Data Scientist</td>\n",
       "      <td>$120K-$160K (Glassdoor est.)</td>\n",
       "      <td>isn’t your usual company. Our work is powered ...</td>\n",
       "      <td>4.6</td>\n",
       "      <td>&lt;intent&gt;\\r\\n4.6</td>\n",
       "      <td>New York, NY</td>\n",
       "      <td>New York, NY</td>\n",
       "      <td>51 to 200 employees</td>\n",
       "      <td>2009</td>\n",
       "      <td>Company - Private</td>\n",
       "      <td>Internet</td>\n",
       "      <td>Information Technology</td>\n",
       "      <td>$100 to $500 million (USD)</td>\n",
       "      <td>Clicktripz, SmarterTravel</td>\n",
       "      <td>120</td>\n",
       "      <td>160</td>\n",
       "      <td>&lt;intent&gt;\\r</td>\n",
       "      <td>New York</td>\n",
       "      <td>1</td>\n",
       "      <td>13</td>\n",
       "    </tr>\n",
       "    <tr>\n",
       "      <th>10</th>\n",
       "      <td>Data Scientist</td>\n",
       "      <td>$126K-$201K (Glassdoor est.)</td>\n",
       "      <td>At Wish, our Data Science &amp; Engineering team i...</td>\n",
       "      <td>3.5</td>\n",
       "      <td>Wish\\r\\n3.5</td>\n",
       "      <td>San Jose, CA</td>\n",
       "      <td>San Francisco, CA</td>\n",
       "      <td>501 to 1000 employees</td>\n",
       "      <td>2011</td>\n",
       "      <td>Company - Private</td>\n",
       "      <td>Other Retail Stores</td>\n",
       "      <td>Retail</td>\n",
       "      <td>$1 to $2 billion (USD)</td>\n",
       "      <td>-1</td>\n",
       "      <td>126</td>\n",
       "      <td>201</td>\n",
       "      <td>Wish\\r</td>\n",
       "      <td>San Jose</td>\n",
       "      <td>0</td>\n",
       "      <td>11</td>\n",
       "    </tr>\n",
       "    <tr>\n",
       "      <th>11</th>\n",
       "      <td>Data Scientist</td>\n",
       "      <td>$64K-$106K (Glassdoor est.)</td>\n",
       "      <td>Secure our Nation, Ignite your Future\\r\\n\\r\\nS...</td>\n",
       "      <td>4.1</td>\n",
       "      <td>ManTech\\r\\n4.1</td>\n",
       "      <td>Chantilly, VA</td>\n",
       "      <td>Herndon, VA</td>\n",
       "      <td>5001 to 10000 employees</td>\n",
       "      <td>1968</td>\n",
       "      <td>Company - Public</td>\n",
       "      <td>Research &amp; Development</td>\n",
       "      <td>Business Services</td>\n",
       "      <td>$1 to $2 billion (USD)</td>\n",
       "      <td>-1</td>\n",
       "      <td>64</td>\n",
       "      <td>106</td>\n",
       "      <td>ManTech\\r</td>\n",
       "      <td>Chantilly</td>\n",
       "      <td>0</td>\n",
       "      <td>54</td>\n",
       "    </tr>\n",
       "    <tr>\n",
       "      <th>12</th>\n",
       "      <td>Staff Data Scientist - Technology</td>\n",
       "      <td>$106K-$172K (Glassdoor est.)</td>\n",
       "      <td>Position Summary...\\r\\nDrives the execution of...</td>\n",
       "      <td>3.2</td>\n",
       "      <td>Walmart\\r\\n3.2</td>\n",
       "      <td>Plano, TX</td>\n",
       "      <td>Bentonville, AR</td>\n",
       "      <td>10000+ employees</td>\n",
       "      <td>1962</td>\n",
       "      <td>Company - Public</td>\n",
       "      <td>Department, Clothing, &amp; Shoe Stores</td>\n",
       "      <td>Retail</td>\n",
       "      <td>$10+ billion (USD)</td>\n",
       "      <td>Target, Costco Wholesale, Amazon</td>\n",
       "      <td>106</td>\n",
       "      <td>172</td>\n",
       "      <td>Walmart\\r</td>\n",
       "      <td>Plano</td>\n",
       "      <td>0</td>\n",
       "      <td>60</td>\n",
       "    </tr>\n",
       "    <tr>\n",
       "      <th>13</th>\n",
       "      <td>Data Analyst</td>\n",
       "      <td>$46K-$85K (Glassdoor est.)</td>\n",
       "      <td>Are you an experienced Data Analyst, skilled a...</td>\n",
       "      <td>4.1</td>\n",
       "      <td>Yesler\\r\\n4.1</td>\n",
       "      <td>Seattle, WA</td>\n",
       "      <td>Seattle, WA</td>\n",
       "      <td>201 to 500 employees</td>\n",
       "      <td>2012</td>\n",
       "      <td>Company - Private</td>\n",
       "      <td>Advertising &amp; Marketing</td>\n",
       "      <td>Business Services</td>\n",
       "      <td>Unknown / Non-Applicable</td>\n",
       "      <td>-1</td>\n",
       "      <td>46</td>\n",
       "      <td>85</td>\n",
       "      <td>Yesler\\r</td>\n",
       "      <td>Seattle</td>\n",
       "      <td>1</td>\n",
       "      <td>10</td>\n",
       "    </tr>\n",
       "    <tr>\n",
       "      <th>14</th>\n",
       "      <td>Data Scientist</td>\n",
       "      <td>$83K-$144K (Glassdoor est.)</td>\n",
       "      <td>Job Description\\r\\n\\r\\n\\r\\nTakeda is looking f...</td>\n",
       "      <td>3.7</td>\n",
       "      <td>Takeda Pharmaceuticals\\r\\n3.7</td>\n",
       "      <td>Cambridge, MA</td>\n",
       "      <td>OSAKA, Japan</td>\n",
       "      <td>10000+ employees</td>\n",
       "      <td>1781</td>\n",
       "      <td>Company - Public</td>\n",
       "      <td>Biotech &amp; Pharmaceuticals</td>\n",
       "      <td>Biotech &amp; Pharmaceuticals</td>\n",
       "      <td>$10+ billion (USD)</td>\n",
       "      <td>Novartis, Baxter, Pfizer</td>\n",
       "      <td>83</td>\n",
       "      <td>144</td>\n",
       "      <td>Takeda Pharmaceuticals\\r</td>\n",
       "      <td>Cambridge</td>\n",
       "      <td>0</td>\n",
       "      <td>241</td>\n",
       "    </tr>\n",
       "    <tr>\n",
       "      <th>15</th>\n",
       "      <td>Data Engineer I</td>\n",
       "      <td>$102K-$190K (Glassdoor est.)</td>\n",
       "      <td>This opportunity is within Audibles Data Engin...</td>\n",
       "      <td>3.6</td>\n",
       "      <td>Audible\\r\\n3.6</td>\n",
       "      <td>Newark, NJ</td>\n",
       "      <td>Newark, NJ</td>\n",
       "      <td>1001 to 5000 employees</td>\n",
       "      <td>1995</td>\n",
       "      <td>Subsidiary or Business Segment</td>\n",
       "      <td>Motion Picture Production &amp; Distribution</td>\n",
       "      <td>Media</td>\n",
       "      <td>Unknown / Non-Applicable</td>\n",
       "      <td>-1</td>\n",
       "      <td>102</td>\n",
       "      <td>190</td>\n",
       "      <td>Audible\\r</td>\n",
       "      <td>Newark</td>\n",
       "      <td>1</td>\n",
       "      <td>27</td>\n",
       "    </tr>\n",
       "    <tr>\n",
       "      <th>16</th>\n",
       "      <td>Scientist I/II, Biology</td>\n",
       "      <td>$67K-$137K (Glassdoor est.)</td>\n",
       "      <td>Scientist I/II, Biology\\r\\n\\r\\nCambridge, MA\\r...</td>\n",
       "      <td>3.9</td>\n",
       "      <td>Blueprint Medicines\\r\\n3.9</td>\n",
       "      <td>Cambridge, MA</td>\n",
       "      <td>Cambridge, MA</td>\n",
       "      <td>51 to 200 employees</td>\n",
       "      <td>2011</td>\n",
       "      <td>Company - Public</td>\n",
       "      <td>Biotech &amp; Pharmaceuticals</td>\n",
       "      <td>Biotech &amp; Pharmaceuticals</td>\n",
       "      <td>$1 to $5 million (USD)</td>\n",
       "      <td>bluebird bio, Agios Pharmaceuticals, Celgene</td>\n",
       "      <td>67</td>\n",
       "      <td>137</td>\n",
       "      <td>Blueprint Medicines\\r</td>\n",
       "      <td>Cambridge</td>\n",
       "      <td>1</td>\n",
       "      <td>11</td>\n",
       "    </tr>\n",
       "    <tr>\n",
       "      <th>17</th>\n",
       "      <td>Customer Data Scientist</td>\n",
       "      <td>$118K-$189K (Glassdoor est.)</td>\n",
       "      <td>Company Overview\\r\\n\\r\\nH2O.ai is the open sou...</td>\n",
       "      <td>4.3</td>\n",
       "      <td>h2o.ai\\r\\n4.3</td>\n",
       "      <td>Mountain View, CA</td>\n",
       "      <td>Mountain View, CA</td>\n",
       "      <td>201 to 500 employees</td>\n",
       "      <td>2011</td>\n",
       "      <td>Company - Private</td>\n",
       "      <td>Enterprise Software &amp; Network Solutions</td>\n",
       "      <td>Information Technology</td>\n",
       "      <td>Unknown / Non-Applicable</td>\n",
       "      <td>-1</td>\n",
       "      <td>118</td>\n",
       "      <td>189</td>\n",
       "      <td>h2o.ai\\r</td>\n",
       "      <td>Mountain View</td>\n",
       "      <td>1</td>\n",
       "      <td>11</td>\n",
       "    </tr>\n",
       "    <tr>\n",
       "      <th>18</th>\n",
       "      <td>Data Scientist - Health Data Analytics</td>\n",
       "      <td>$110K-$175K (Glassdoor est.)</td>\n",
       "      <td>At Nuna, our mission is to make high-quality h...</td>\n",
       "      <td>4.2</td>\n",
       "      <td>Nuna\\r\\n4.2</td>\n",
       "      <td>San Francisco, CA</td>\n",
       "      <td>San Francisco, CA</td>\n",
       "      <td>51 to 200 employees</td>\n",
       "      <td>2010</td>\n",
       "      <td>Company - Private</td>\n",
       "      <td>Enterprise Software &amp; Network Solutions</td>\n",
       "      <td>Information Technology</td>\n",
       "      <td>Unknown / Non-Applicable</td>\n",
       "      <td>-1</td>\n",
       "      <td>110</td>\n",
       "      <td>175</td>\n",
       "      <td>Nuna\\r</td>\n",
       "      <td>San Francisco</td>\n",
       "      <td>1</td>\n",
       "      <td>12</td>\n",
       "    </tr>\n",
       "    <tr>\n",
       "      <th>19</th>\n",
       "      <td>Data Scientist</td>\n",
       "      <td>$64K-$111K (Glassdoor est.)</td>\n",
       "      <td>Pinnacol Assurance does just one thing, and do...</td>\n",
       "      <td>4.0</td>\n",
       "      <td>Pinnacol Assurance\\r\\n4.0</td>\n",
       "      <td>Denver, CO</td>\n",
       "      <td>Denver, CO</td>\n",
       "      <td>501 to 1000 employees</td>\n",
       "      <td>1915</td>\n",
       "      <td>Nonprofit Organization</td>\n",
       "      <td>Insurance Carriers</td>\n",
       "      <td>Insurance</td>\n",
       "      <td>$500 million to $1 billion (USD)</td>\n",
       "      <td>-1</td>\n",
       "      <td>64</td>\n",
       "      <td>111</td>\n",
       "      <td>Pinnacol Assurance\\r</td>\n",
       "      <td>Denver</td>\n",
       "      <td>1</td>\n",
       "      <td>107</td>\n",
       "    </tr>\n",
       "  </tbody>\n",
       "</table>\n",
       "</div>"
      ],
      "text/plain": [
       "                                 job title               salary estimate  \\\n",
       "0                           Data Scientist    $53K-$91K (Glassdoor est.)   \n",
       "1                Healthcare Data Scientist   $63K-$112K (Glassdoor est.)   \n",
       "2                           Data Scientist    $80K-$90K (Glassdoor est.)   \n",
       "3                           Data Scientist    $56K-$97K (Glassdoor est.)   \n",
       "4                           Data Scientist   $86K-$143K (Glassdoor est.)   \n",
       "5                           Data Scientist   $71K-$119K (Glassdoor est.)   \n",
       "6                           Data Scientist    $54K-$93K (Glassdoor est.)   \n",
       "7                           Data Scientist   $86K-$142K (Glassdoor est.)   \n",
       "8                       Research Scientist    $38K-$84K (Glassdoor est.)   \n",
       "9                           Data Scientist  $120K-$160K (Glassdoor est.)   \n",
       "10                          Data Scientist  $126K-$201K (Glassdoor est.)   \n",
       "11                          Data Scientist   $64K-$106K (Glassdoor est.)   \n",
       "12       Staff Data Scientist - Technology  $106K-$172K (Glassdoor est.)   \n",
       "13                            Data Analyst    $46K-$85K (Glassdoor est.)   \n",
       "14                          Data Scientist   $83K-$144K (Glassdoor est.)   \n",
       "15                         Data Engineer I  $102K-$190K (Glassdoor est.)   \n",
       "16                 Scientist I/II, Biology   $67K-$137K (Glassdoor est.)   \n",
       "17                 Customer Data Scientist  $118K-$189K (Glassdoor est.)   \n",
       "18  Data Scientist - Health Data Analytics  $110K-$175K (Glassdoor est.)   \n",
       "19                          Data Scientist   $64K-$111K (Glassdoor est.)   \n",
       "\n",
       "                                      job description  rating  \\\n",
       "0   Data Scientist\\r\\nLocation: Albuquerque, NM\\r\\...     3.8   \n",
       "1   What You Will Do:\\r\\n\\r\\nI. General Summary\\r\\...     3.4   \n",
       "2   KnowBe4, Inc. is a high growth information sec...     4.8   \n",
       "3   *Organization and Job ID**\\r\\nJob ID: 310709\\r...     3.8   \n",
       "4   Data Scientist\\r\\nAffinity Solutions / Marketi...     2.9   \n",
       "5   CyrusOne is seeking a talented Data Scientist ...     3.4   \n",
       "6   Job Description\\r\\n\\r\\n**Please only local can...     4.1   \n",
       "7   Advanced Analytics – Lead Data Scientist\\r\\nOv...     3.8   \n",
       "8   SUMMARY\\r\\n\\r\\nThe Research Scientist I will b...     3.3   \n",
       "9   isn’t your usual company. Our work is powered ...     4.6   \n",
       "10  At Wish, our Data Science & Engineering team i...     3.5   \n",
       "11  Secure our Nation, Ignite your Future\\r\\n\\r\\nS...     4.1   \n",
       "12  Position Summary...\\r\\nDrives the execution of...     3.2   \n",
       "13  Are you an experienced Data Analyst, skilled a...     4.1   \n",
       "14  Job Description\\r\\n\\r\\n\\r\\nTakeda is looking f...     3.7   \n",
       "15  This opportunity is within Audibles Data Engin...     3.6   \n",
       "16  Scientist I/II, Biology\\r\\n\\r\\nCambridge, MA\\r...     3.9   \n",
       "17  Company Overview\\r\\n\\r\\nH2O.ai is the open sou...     4.3   \n",
       "18  At Nuna, our mission is to make high-quality h...     4.2   \n",
       "19  Pinnacol Assurance does just one thing, and do...     4.0   \n",
       "\n",
       "                                    company name           location  \\\n",
       "0                       Tecolote Research\\r\\n3.8    Albuquerque, NM   \n",
       "1   University of Maryland Medical System\\r\\n3.4      Linthicum, MD   \n",
       "2                                 KnowBe4\\r\\n4.8     Clearwater, FL   \n",
       "3                                    PNNL\\r\\n3.8       Richland, WA   \n",
       "4                      Affinity Solutions\\r\\n2.9       New York, NY   \n",
       "5                                CyrusOne\\r\\n3.4         Dallas, TX   \n",
       "6                      ClearOne Advantage\\r\\n4.1      Baltimore, MD   \n",
       "7                              Logic20/20\\r\\n3.8       San Jose, CA   \n",
       "8               Rochester Regional Health\\r\\n3.3      Rochester, NY   \n",
       "9                                <intent>\\r\\n4.6       New York, NY   \n",
       "10                                   Wish\\r\\n3.5       San Jose, CA   \n",
       "11                                ManTech\\r\\n4.1      Chantilly, VA   \n",
       "12                                Walmart\\r\\n3.2          Plano, TX   \n",
       "13                                 Yesler\\r\\n4.1        Seattle, WA   \n",
       "14                 Takeda Pharmaceuticals\\r\\n3.7      Cambridge, MA   \n",
       "15                                Audible\\r\\n3.6         Newark, NJ   \n",
       "16                    Blueprint Medicines\\r\\n3.9      Cambridge, MA   \n",
       "17                                 h2o.ai\\r\\n4.3  Mountain View, CA   \n",
       "18                                   Nuna\\r\\n4.2  San Francisco, CA   \n",
       "19                     Pinnacol Assurance\\r\\n4.0         Denver, CO   \n",
       "\n",
       "         headquarters                     size  founded  \\\n",
       "0          Goleta, CA    501 to 1000 employees     1973   \n",
       "1       Baltimore, MD         10000+ employees     1984   \n",
       "2      Clearwater, FL    501 to 1000 employees     2010   \n",
       "3        Richland, WA   1001 to 5000 employees     1965   \n",
       "4        New York, NY      51 to 200 employees     1998   \n",
       "5          Dallas, TX     201 to 500 employees     2000   \n",
       "6       Baltimore, MD    501 to 1000 employees     2008   \n",
       "7         Seattle, WA     201 to 500 employees     2005   \n",
       "8       Rochester, NY         10000+ employees     2014   \n",
       "9        New York, NY      51 to 200 employees     2009   \n",
       "10  San Francisco, CA    501 to 1000 employees     2011   \n",
       "11        Herndon, VA  5001 to 10000 employees     1968   \n",
       "12    Bentonville, AR         10000+ employees     1962   \n",
       "13        Seattle, WA     201 to 500 employees     2012   \n",
       "14       OSAKA, Japan         10000+ employees     1781   \n",
       "15         Newark, NJ   1001 to 5000 employees     1995   \n",
       "16      Cambridge, MA      51 to 200 employees     2011   \n",
       "17  Mountain View, CA     201 to 500 employees     2011   \n",
       "18  San Francisco, CA      51 to 200 employees     2010   \n",
       "19         Denver, CO    501 to 1000 employees     1915   \n",
       "\n",
       "                 type of ownership                                  industry  \\\n",
       "0                Company - Private                       Aerospace & Defense   \n",
       "1               Other Organization          Health Care Services & Hospitals   \n",
       "2                Company - Private                         Security Services   \n",
       "3                       Government                                    Energy   \n",
       "4                Company - Private                   Advertising & Marketing   \n",
       "5                 Company - Public                               Real Estate   \n",
       "6                Company - Private                     Banks & Credit Unions   \n",
       "7                Company - Private                                Consulting   \n",
       "8                         Hospital          Health Care Services & Hospitals   \n",
       "9                Company - Private                                  Internet   \n",
       "10               Company - Private                       Other Retail Stores   \n",
       "11                Company - Public                    Research & Development   \n",
       "12                Company - Public       Department, Clothing, & Shoe Stores   \n",
       "13               Company - Private                   Advertising & Marketing   \n",
       "14                Company - Public                 Biotech & Pharmaceuticals   \n",
       "15  Subsidiary or Business Segment  Motion Picture Production & Distribution   \n",
       "16                Company - Public                 Biotech & Pharmaceuticals   \n",
       "17               Company - Private   Enterprise Software & Network Solutions   \n",
       "18               Company - Private   Enterprise Software & Network Solutions   \n",
       "19          Nonprofit Organization                        Insurance Carriers   \n",
       "\n",
       "                          sector                           revenue  \\\n",
       "0            Aerospace & Defense         $50 to $100 million (USD)   \n",
       "1                    Health Care            $2 to $5 billion (USD)   \n",
       "2              Business Services        $100 to $500 million (USD)   \n",
       "3   Oil, Gas, Energy & Utilities  $500 million to $1 billion (USD)   \n",
       "4              Business Services          Unknown / Non-Applicable   \n",
       "5                    Real Estate            $1 to $2 billion (USD)   \n",
       "6                        Finance          Unknown / Non-Applicable   \n",
       "7              Business Services          $25 to $50 million (USD)   \n",
       "8                    Health Care  $500 million to $1 billion (USD)   \n",
       "9         Information Technology        $100 to $500 million (USD)   \n",
       "10                        Retail            $1 to $2 billion (USD)   \n",
       "11             Business Services            $1 to $2 billion (USD)   \n",
       "12                        Retail                $10+ billion (USD)   \n",
       "13             Business Services          Unknown / Non-Applicable   \n",
       "14     Biotech & Pharmaceuticals                $10+ billion (USD)   \n",
       "15                         Media          Unknown / Non-Applicable   \n",
       "16     Biotech & Pharmaceuticals            $1 to $5 million (USD)   \n",
       "17        Information Technology          Unknown / Non-Applicable   \n",
       "18        Information Technology          Unknown / Non-Applicable   \n",
       "19                     Insurance  $500 million to $1 billion (USD)   \n",
       "\n",
       "                                          competitors min_salary max_salary  \\\n",
       "0                                                  -1         53        91    \n",
       "1                                                  -1         63       112    \n",
       "2                                                  -1         80        90    \n",
       "3   Oak Ridge National Laboratory, National Renewa...         56        97    \n",
       "4                Commerce Signals, Cardlytics, Yodlee         86       143    \n",
       "5                   Digital Realty, CoreSite, Equinix         71       119    \n",
       "6                                                  -1         54        93    \n",
       "7                                                  -1         86       142    \n",
       "8                                                  -1         38        84    \n",
       "9                           Clicktripz, SmarterTravel        120       160    \n",
       "10                                                 -1        126       201    \n",
       "11                                                 -1         64       106    \n",
       "12                   Target, Costco Wholesale, Amazon        106       172    \n",
       "13                                                 -1         46        85    \n",
       "14                           Novartis, Baxter, Pfizer         83       144    \n",
       "15                                                 -1        102       190    \n",
       "16       bluebird bio, Agios Pharmaceuticals, Celgene         67       137    \n",
       "17                                                 -1        118       189    \n",
       "18                                                 -1        110       175    \n",
       "19                                                 -1         64       111    \n",
       "\n",
       "                                company_txt      job_state  same_state  age  \n",
       "0                       Tecolote Research\\r    Albuquerque           0   49  \n",
       "1   University of Maryland Medical System\\r      Linthicum           0   38  \n",
       "2                                 KnowBe4\\r     Clearwater           1   12  \n",
       "3                                    PNNL\\r       Richland           1   57  \n",
       "4                      Affinity Solutions\\r       New York           1   24  \n",
       "5                                CyrusOne\\r         Dallas           1   22  \n",
       "6                      ClearOne Advantage\\r      Baltimore           1   14  \n",
       "7                              Logic20/20\\r       San Jose           0   17  \n",
       "8               Rochester Regional Health\\r      Rochester           1    8  \n",
       "9                                <intent>\\r       New York           1   13  \n",
       "10                                   Wish\\r       San Jose           0   11  \n",
       "11                                ManTech\\r      Chantilly           0   54  \n",
       "12                                Walmart\\r          Plano           0   60  \n",
       "13                                 Yesler\\r        Seattle           1   10  \n",
       "14                 Takeda Pharmaceuticals\\r      Cambridge           0  241  \n",
       "15                                Audible\\r         Newark           1   27  \n",
       "16                    Blueprint Medicines\\r      Cambridge           1   11  \n",
       "17                                 h2o.ai\\r  Mountain View           1   11  \n",
       "18                                   Nuna\\r  San Francisco           1   12  \n",
       "19                     Pinnacol Assurance\\r         Denver           1  107  "
      ]
     },
     "execution_count": 35,
     "metadata": {},
     "output_type": "execute_result"
    }
   ],
   "source": [
    "df.head(20)"
   ]
  },
  {
   "cell_type": "code",
   "execution_count": null,
   "id": "96dadfcb",
   "metadata": {},
   "outputs": [],
   "source": []
  },
  {
   "cell_type": "code",
   "execution_count": 36,
   "id": "44fe5da7",
   "metadata": {},
   "outputs": [],
   "source": [
    "df['python_yn'] = df['job description'].apply(lambda x: 1 if 'python' in x.lower() else 0)"
   ]
  },
  {
   "cell_type": "code",
   "execution_count": 37,
   "id": "7f9e03e8",
   "metadata": {},
   "outputs": [
    {
     "data": {
      "text/plain": [
       "1    496\n",
       "0    460\n",
       "Name: python_yn, dtype: int64"
      ]
     },
     "execution_count": 37,
     "metadata": {},
     "output_type": "execute_result"
    }
   ],
   "source": [
    "df['python_yn'].value_counts()"
   ]
  },
  {
   "cell_type": "code",
   "execution_count": 38,
   "id": "a9ae0d40",
   "metadata": {},
   "outputs": [
    {
     "data": {
      "text/plain": [
       "0    954\n",
       "1      2\n",
       "Name: R_yn, dtype: int64"
      ]
     },
     "execution_count": 38,
     "metadata": {},
     "output_type": "execute_result"
    }
   ],
   "source": [
    "df['R_yn'] = df['job description'].apply(lambda x: 1 if 'r studio' in x.lower() or 'r-studio' in x.lower() else 0)\n",
    "df['R_yn'].value_counts()"
   ]
  },
  {
   "cell_type": "code",
   "execution_count": 39,
   "id": "7864ac4f",
   "metadata": {},
   "outputs": [],
   "source": [
    "df['excel'] = df['job description'].apply(lambda x: 1 if 'excel' in x.lower() else 0)"
   ]
  },
  {
   "cell_type": "code",
   "execution_count": 40,
   "id": "ab1acfe6",
   "metadata": {},
   "outputs": [],
   "source": [
    "df['aws'] = df['job description'].apply(lambda x: 1 if 'aws' in x.lower() else 0)"
   ]
  },
  {
   "cell_type": "code",
   "execution_count": 41,
   "id": "ea2f1eaf",
   "metadata": {},
   "outputs": [],
   "source": [
    "df['spark'] = df['job description'].apply(lambda x: 1 if 'spark' in x.lower() else 0)"
   ]
  },
  {
   "cell_type": "code",
   "execution_count": 42,
   "id": "7b4f9748",
   "metadata": {},
   "outputs": [
    {
     "data": {
      "text/html": [
       "<div>\n",
       "<style scoped>\n",
       "    .dataframe tbody tr th:only-of-type {\n",
       "        vertical-align: middle;\n",
       "    }\n",
       "\n",
       "    .dataframe tbody tr th {\n",
       "        vertical-align: top;\n",
       "    }\n",
       "\n",
       "    .dataframe thead th {\n",
       "        text-align: right;\n",
       "    }\n",
       "</style>\n",
       "<table border=\"1\" class=\"dataframe\">\n",
       "  <thead>\n",
       "    <tr style=\"text-align: right;\">\n",
       "      <th></th>\n",
       "      <th>job title</th>\n",
       "      <th>salary estimate</th>\n",
       "      <th>job description</th>\n",
       "      <th>rating</th>\n",
       "      <th>company name</th>\n",
       "      <th>location</th>\n",
       "      <th>headquarters</th>\n",
       "      <th>size</th>\n",
       "      <th>founded</th>\n",
       "      <th>type of ownership</th>\n",
       "      <th>...</th>\n",
       "      <th>max_salary</th>\n",
       "      <th>company_txt</th>\n",
       "      <th>job_state</th>\n",
       "      <th>same_state</th>\n",
       "      <th>age</th>\n",
       "      <th>python_yn</th>\n",
       "      <th>r_yn</th>\n",
       "      <th>excel</th>\n",
       "      <th>aws</th>\n",
       "      <th>spark</th>\n",
       "    </tr>\n",
       "  </thead>\n",
       "  <tbody>\n",
       "    <tr>\n",
       "      <th>0</th>\n",
       "      <td>Data Scientist</td>\n",
       "      <td>$53K-$91K (Glassdoor est.)</td>\n",
       "      <td>Data Scientist\\r\\nLocation: Albuquerque, NM\\r\\...</td>\n",
       "      <td>3.8</td>\n",
       "      <td>Tecolote Research\\r\\n3.8</td>\n",
       "      <td>Albuquerque, NM</td>\n",
       "      <td>Goleta, CA</td>\n",
       "      <td>501 to 1000 employees</td>\n",
       "      <td>1973</td>\n",
       "      <td>Company - Private</td>\n",
       "      <td>...</td>\n",
       "      <td>91</td>\n",
       "      <td>Tecolote Research\\r</td>\n",
       "      <td>Albuquerque</td>\n",
       "      <td>0</td>\n",
       "      <td>49</td>\n",
       "      <td>1</td>\n",
       "      <td>0</td>\n",
       "      <td>1</td>\n",
       "      <td>0</td>\n",
       "      <td>0</td>\n",
       "    </tr>\n",
       "    <tr>\n",
       "      <th>1</th>\n",
       "      <td>Healthcare Data Scientist</td>\n",
       "      <td>$63K-$112K (Glassdoor est.)</td>\n",
       "      <td>What You Will Do:\\r\\n\\r\\nI. General Summary\\r\\...</td>\n",
       "      <td>3.4</td>\n",
       "      <td>University of Maryland Medical System\\r\\n3.4</td>\n",
       "      <td>Linthicum, MD</td>\n",
       "      <td>Baltimore, MD</td>\n",
       "      <td>10000+ employees</td>\n",
       "      <td>1984</td>\n",
       "      <td>Other Organization</td>\n",
       "      <td>...</td>\n",
       "      <td>112</td>\n",
       "      <td>University of Maryland Medical System\\r</td>\n",
       "      <td>Linthicum</td>\n",
       "      <td>0</td>\n",
       "      <td>38</td>\n",
       "      <td>1</td>\n",
       "      <td>0</td>\n",
       "      <td>0</td>\n",
       "      <td>0</td>\n",
       "      <td>0</td>\n",
       "    </tr>\n",
       "    <tr>\n",
       "      <th>2</th>\n",
       "      <td>Data Scientist</td>\n",
       "      <td>$80K-$90K (Glassdoor est.)</td>\n",
       "      <td>KnowBe4, Inc. is a high growth information sec...</td>\n",
       "      <td>4.8</td>\n",
       "      <td>KnowBe4\\r\\n4.8</td>\n",
       "      <td>Clearwater, FL</td>\n",
       "      <td>Clearwater, FL</td>\n",
       "      <td>501 to 1000 employees</td>\n",
       "      <td>2010</td>\n",
       "      <td>Company - Private</td>\n",
       "      <td>...</td>\n",
       "      <td>90</td>\n",
       "      <td>KnowBe4\\r</td>\n",
       "      <td>Clearwater</td>\n",
       "      <td>1</td>\n",
       "      <td>12</td>\n",
       "      <td>1</td>\n",
       "      <td>0</td>\n",
       "      <td>1</td>\n",
       "      <td>0</td>\n",
       "      <td>1</td>\n",
       "    </tr>\n",
       "    <tr>\n",
       "      <th>3</th>\n",
       "      <td>Data Scientist</td>\n",
       "      <td>$56K-$97K (Glassdoor est.)</td>\n",
       "      <td>*Organization and Job ID**\\r\\nJob ID: 310709\\r...</td>\n",
       "      <td>3.8</td>\n",
       "      <td>PNNL\\r\\n3.8</td>\n",
       "      <td>Richland, WA</td>\n",
       "      <td>Richland, WA</td>\n",
       "      <td>1001 to 5000 employees</td>\n",
       "      <td>1965</td>\n",
       "      <td>Government</td>\n",
       "      <td>...</td>\n",
       "      <td>97</td>\n",
       "      <td>PNNL\\r</td>\n",
       "      <td>Richland</td>\n",
       "      <td>1</td>\n",
       "      <td>57</td>\n",
       "      <td>1</td>\n",
       "      <td>0</td>\n",
       "      <td>0</td>\n",
       "      <td>0</td>\n",
       "      <td>0</td>\n",
       "    </tr>\n",
       "    <tr>\n",
       "      <th>4</th>\n",
       "      <td>Data Scientist</td>\n",
       "      <td>$86K-$143K (Glassdoor est.)</td>\n",
       "      <td>Data Scientist\\r\\nAffinity Solutions / Marketi...</td>\n",
       "      <td>2.9</td>\n",
       "      <td>Affinity Solutions\\r\\n2.9</td>\n",
       "      <td>New York, NY</td>\n",
       "      <td>New York, NY</td>\n",
       "      <td>51 to 200 employees</td>\n",
       "      <td>1998</td>\n",
       "      <td>Company - Private</td>\n",
       "      <td>...</td>\n",
       "      <td>143</td>\n",
       "      <td>Affinity Solutions\\r</td>\n",
       "      <td>New York</td>\n",
       "      <td>1</td>\n",
       "      <td>24</td>\n",
       "      <td>1</td>\n",
       "      <td>0</td>\n",
       "      <td>1</td>\n",
       "      <td>0</td>\n",
       "      <td>0</td>\n",
       "    </tr>\n",
       "  </tbody>\n",
       "</table>\n",
       "<p>5 rows × 25 columns</p>\n",
       "</div>"
      ],
      "text/plain": [
       "                   job title              salary estimate  \\\n",
       "0             Data Scientist   $53K-$91K (Glassdoor est.)   \n",
       "1  Healthcare Data Scientist  $63K-$112K (Glassdoor est.)   \n",
       "2             Data Scientist   $80K-$90K (Glassdoor est.)   \n",
       "3             Data Scientist   $56K-$97K (Glassdoor est.)   \n",
       "4             Data Scientist  $86K-$143K (Glassdoor est.)   \n",
       "\n",
       "                                     job description  rating  \\\n",
       "0  Data Scientist\\r\\nLocation: Albuquerque, NM\\r\\...     3.8   \n",
       "1  What You Will Do:\\r\\n\\r\\nI. General Summary\\r\\...     3.4   \n",
       "2  KnowBe4, Inc. is a high growth information sec...     4.8   \n",
       "3  *Organization and Job ID**\\r\\nJob ID: 310709\\r...     3.8   \n",
       "4  Data Scientist\\r\\nAffinity Solutions / Marketi...     2.9   \n",
       "\n",
       "                                   company name         location  \\\n",
       "0                      Tecolote Research\\r\\n3.8  Albuquerque, NM   \n",
       "1  University of Maryland Medical System\\r\\n3.4    Linthicum, MD   \n",
       "2                                KnowBe4\\r\\n4.8   Clearwater, FL   \n",
       "3                                   PNNL\\r\\n3.8     Richland, WA   \n",
       "4                     Affinity Solutions\\r\\n2.9     New York, NY   \n",
       "\n",
       "     headquarters                    size  founded   type of ownership  ...  \\\n",
       "0      Goleta, CA   501 to 1000 employees     1973   Company - Private  ...   \n",
       "1   Baltimore, MD        10000+ employees     1984  Other Organization  ...   \n",
       "2  Clearwater, FL   501 to 1000 employees     2010   Company - Private  ...   \n",
       "3    Richland, WA  1001 to 5000 employees     1965          Government  ...   \n",
       "4    New York, NY     51 to 200 employees     1998   Company - Private  ...   \n",
       "\n",
       "  max_salary                              company_txt    job_state same_state  \\\n",
       "0        91                       Tecolote Research\\r  Albuquerque          0   \n",
       "1       112   University of Maryland Medical System\\r    Linthicum          0   \n",
       "2        90                                 KnowBe4\\r   Clearwater          1   \n",
       "3        97                                    PNNL\\r     Richland          1   \n",
       "4       143                      Affinity Solutions\\r     New York          1   \n",
       "\n",
       "  age python_yn r_yn excel  aws  spark  \n",
       "0  49         1    0     1    0      0  \n",
       "1  38         1    0     0    0      0  \n",
       "2  12         1    0     1    0      1  \n",
       "3  57         1    0     0    0      0  \n",
       "4  24         1    0     1    0      0  \n",
       "\n",
       "[5 rows x 25 columns]"
      ]
     },
     "execution_count": 42,
     "metadata": {},
     "output_type": "execute_result"
    }
   ],
   "source": [
    "# lowercase labels for dataset\n",
    "df.rename(columns=lambda x: x.strip().lower(), inplace=True)\n",
    "df.head()"
   ]
  },
  {
   "cell_type": "code",
   "execution_count": 91,
   "id": "7b8ee0cc",
   "metadata": {},
   "outputs": [
    {
     "name": "stdout",
     "output_type": "stream",
     "text": [
      "<class 'pandas.core.frame.DataFrame'>\n",
      "RangeIndex: 956 entries, 0 to 955\n",
      "Data columns (total 25 columns):\n",
      " #   Column             Non-Null Count  Dtype  \n",
      "---  ------             --------------  -----  \n",
      " 0   job title          956 non-null    object \n",
      " 1   salary estimate    956 non-null    object \n",
      " 2   job description    956 non-null    object \n",
      " 3   rating             956 non-null    float64\n",
      " 4   company name       956 non-null    object \n",
      " 5   location           956 non-null    object \n",
      " 6   headquarters       956 non-null    object \n",
      " 7   size               956 non-null    object \n",
      " 8   founded            956 non-null    int64  \n",
      " 9   type of ownership  956 non-null    object \n",
      " 10  industry           956 non-null    object \n",
      " 11  sector             956 non-null    object \n",
      " 12  revenue            956 non-null    object \n",
      " 13  competitors        956 non-null    object \n",
      " 14  min_salary         956 non-null    object \n",
      " 15  max_salary         956 non-null    object \n",
      " 16  company_txt        956 non-null    object \n",
      " 17  job_state          956 non-null    object \n",
      " 18  same_state         956 non-null    int64  \n",
      " 19  age                956 non-null    int64  \n",
      " 20  python_yn          956 non-null    int64  \n",
      " 21  r_yn               956 non-null    int64  \n",
      " 22  excel              956 non-null    int64  \n",
      " 23  aws                956 non-null    int64  \n",
      " 24  spark              956 non-null    int64  \n",
      "dtypes: float64(1), int64(8), object(16)\n",
      "memory usage: 186.8+ KB\n"
     ]
    }
   ],
   "source": [
    "df.info()"
   ]
  },
  {
   "cell_type": "markdown",
   "id": "1249d363",
   "metadata": {},
   "source": [
    "# EDA"
   ]
  },
  {
   "cell_type": "code",
   "execution_count": 43,
   "id": "8672c562",
   "metadata": {},
   "outputs": [
    {
     "data": {
      "text/plain": [
       "<AxesSubplot:>"
      ]
     },
     "execution_count": 43,
     "metadata": {},
     "output_type": "execute_result"
    },
    {
     "data": {
      "image/png": "[encoded data removed]",
      "text/plain": [
       "<Figure size 432x288 with 1 Axes>"
      ]
     },
     "metadata": {
      "needs_background": "light"
     },
     "output_type": "display_data"
    }
   ],
   "source": [
    "df.age.hist()"
   ]
  },
  {
   "cell_type": "code",
   "execution_count": 44,
   "id": "33e76559",
   "metadata": {},
   "outputs": [
    {
     "data": {
      "text/plain": [
       "<AxesSubplot:>"
      ]
     },
     "execution_count": 44,
     "metadata": {},
     "output_type": "execute_result"
    },
    {
     "data": {
      "image/png": "[encoded data removed]",
      "text/plain": [
       "<Figure size 432x288 with 1 Axes>"
      ]
     },
     "metadata": {
      "needs_background": "light"
     },
     "output_type": "display_data"
    }
   ],
   "source": [
    "df.rating.hist()"
   ]
  },
  {
   "cell_type": "code",
   "execution_count": 56,
   "id": "a3ef191b",
   "metadata": {},
   "outputs": [
    {
     "data": {
      "text/plain": [
       "New York         78\n",
       "San Francisco    71\n",
       "Cambridge        60\n",
       "Chicago          37\n",
       "Boston           24\n",
       "                 ..\n",
       "San Ramon         1\n",
       "Woodinville       1\n",
       "Burlington        1\n",
       "Pella             1\n",
       "Michigan          1\n",
       "Name: job_state, Length: 227, dtype: int64"
      ]
     },
     "execution_count": 56,
     "metadata": {},
     "output_type": "execute_result"
    },
    {
     "data": {
      "text/plain": [
       "<Figure size 1224x432 with 0 Axes>"
      ]
     },
     "metadata": {},
     "output_type": "display_data"
    }
   ],
   "source": [
    "\n",
    "df.job_state.value_counts()\n"
   ]
  },
  {
   "cell_type": "code",
   "execution_count": 58,
   "id": "e76e8c9f",
   "metadata": {},
   "outputs": [
    {
     "data": {
      "text/plain": [
       "<AxesSubplot:>"
      ]
     },
     "execution_count": 58,
     "metadata": {},
     "output_type": "execute_result"
    },
    {
     "data": {
      "image/png": "[encoded data removed]",
      "text/plain": [
       "<Figure size 432x288 with 1 Axes>"
      ]
     },
     "metadata": {
      "needs_background": "light"
     },
     "output_type": "display_data"
    }
   ],
   "source": [
    "df.job_state.value_counts()[:15].plot(kind = 'bar')"
   ]
  },
  {
   "cell_type": "code",
   "execution_count": 81,
   "id": "f2109955",
   "metadata": {},
   "outputs": [],
   "source": [
    "df_cat = df[[ 'python_yn', 'r_yn',\n",
    "       'spark', 'aws', 'excel']]"
   ]
  },
  {
   "cell_type": "code",
   "execution_count": 86,
   "id": "ca671c78",
   "metadata": {},
   "outputs": [
    {
     "name": "stderr",
     "output_type": "stream",
     "text": [
      "C:\\Users\\AL-FAJR\\anaconda3\\lib\\site-packages\\seaborn\\_decorators.py:36: FutureWarning: Pass the following variable as a keyword arg: x. From version 0.12, the only valid positional argument will be `data`, and passing other arguments without an explicit keyword will result in an error or misinterpretation.\n",
      "  warnings.warn(\n"
     ]
    },
    {
     "data": {
      "text/plain": [
       "<AxesSubplot:xlabel='python_yn', ylabel='count'>"
      ]
     },
     "execution_count": 86,
     "metadata": {},
     "output_type": "execute_result"
    },
    {
     "data": {
      "image/png": "[encoded data removed]",
      "text/plain": [
       "<Figure size 432x288 with 1 Axes>"
      ]
     },
     "metadata": {
      "needs_background": "light"
     },
     "output_type": "display_data"
    }
   ],
   "source": [
    "sns.countplot(df.python_yn)"
   ]
  },
  {
   "cell_type": "code",
   "execution_count": 87,
   "id": "e530feb2",
   "metadata": {},
   "outputs": [
    {
     "name": "stderr",
     "output_type": "stream",
     "text": [
      "C:\\Users\\AL-FAJR\\anaconda3\\lib\\site-packages\\seaborn\\_decorators.py:36: FutureWarning: Pass the following variable as a keyword arg: x. From version 0.12, the only valid positional argument will be `data`, and passing other arguments without an explicit keyword will result in an error or misinterpretation.\n",
      "  warnings.warn(\n"
     ]
    },
    {
     "data": {
      "text/plain": [
       "<AxesSubplot:xlabel='aws', ylabel='count'>"
      ]
     },
     "execution_count": 87,
     "metadata": {},
     "output_type": "execute_result"
    },
    {
     "data": {
      "image/png": "[encoded data removed]",
      "text/plain": [
       "<Figure size 432x288 with 1 Axes>"
      ]
     },
     "metadata": {
      "needs_background": "light"
     },
     "output_type": "display_data"
    }
   ],
   "source": [
    "sns.countplot(df.aws)"
   ]
  },
  {
   "cell_type": "code",
   "execution_count": 88,
   "id": "6529ee65",
   "metadata": {},
   "outputs": [
    {
     "name": "stderr",
     "output_type": "stream",
     "text": [
      "C:\\Users\\AL-FAJR\\anaconda3\\lib\\site-packages\\seaborn\\_decorators.py:36: FutureWarning: Pass the following variable as a keyword arg: x. From version 0.12, the only valid positional argument will be `data`, and passing other arguments without an explicit keyword will result in an error or misinterpretation.\n",
      "  warnings.warn(\n"
     ]
    },
    {
     "data": {
      "text/plain": [
       "<AxesSubplot:xlabel='excel', ylabel='count'>"
      ]
     },
     "execution_count": 88,
     "metadata": {},
     "output_type": "execute_result"
    },
    {
     "data": {
      "image/png": "[encoded data removed]",
      "text/plain": [
       "<Figure size 432x288 with 1 Axes>"
      ]
     },
     "metadata": {
      "needs_background": "light"
     },
     "output_type": "display_data"
    }
   ],
   "source": [
    "sns.countplot(df.excel)"
   ]
  },
  {
   "cell_type": "code",
   "execution_count": 89,
   "id": "e38683d1",
   "metadata": {},
   "outputs": [
    {
     "name": "stderr",
     "output_type": "stream",
     "text": [
      "C:\\Users\\AL-FAJR\\anaconda3\\lib\\site-packages\\seaborn\\_decorators.py:36: FutureWarning: Pass the following variable as a keyword arg: x. From version 0.12, the only valid positional argument will be `data`, and passing other arguments without an explicit keyword will result in an error or misinterpretation.\n",
      "  warnings.warn(\n"
     ]
    },
    {
     "data": {
      "text/plain": [
       "<AxesSubplot:xlabel='r_yn', ylabel='count'>"
      ]
     },
     "execution_count": 89,
     "metadata": {},
     "output_type": "execute_result"
    },
    {
     "data": {
      "image/png": "[encoded data removed]",
      "text/plain": [
       "<Figure size 432x288 with 1 Axes>"
      ]
     },
     "metadata": {
      "needs_background": "light"
     },
     "output_type": "display_data"
    }
   ],
   "source": [
    "sns.countplot(df.r_yn)"
   ]
  },
  {
   "cell_type": "code",
   "execution_count": 90,
   "id": "91515b87",
   "metadata": {},
   "outputs": [
    {
     "name": "stderr",
     "output_type": "stream",
     "text": [
      "C:\\Users\\AL-FAJR\\anaconda3\\lib\\site-packages\\seaborn\\_decorators.py:36: FutureWarning: Pass the following variable as a keyword arg: x. From version 0.12, the only valid positional argument will be `data`, and passing other arguments without an explicit keyword will result in an error or misinterpretation.\n",
      "  warnings.warn(\n"
     ]
    },
    {
     "data": {
      "text/plain": [
       "<AxesSubplot:xlabel='spark', ylabel='count'>"
      ]
     },
     "execution_count": 90,
     "metadata": {},
     "output_type": "execute_result"
    },
    {
     "data": {
      "image/png": "[encoded data removed]",
      "text/plain": [
       "<Figure size 432x288 with 1 Axes>"
      ]
     },
     "metadata": {
      "needs_background": "light"
     },
     "output_type": "display_data"
    }
   ],
   "source": [
    "sns.countplot(df.spark)"
   ]
  },
  {
   "cell_type": "code",
   "execution_count": 94,
   "id": "863f7f67",
   "metadata": {},
   "outputs": [
    {
     "data": {
      "text/html": [
       "<div>\n",
       "<style scoped>\n",
       "    .dataframe tbody tr th:only-of-type {\n",
       "        vertical-align: middle;\n",
       "    }\n",
       "\n",
       "    .dataframe tbody tr th {\n",
       "        vertical-align: top;\n",
       "    }\n",
       "\n",
       "    .dataframe thead th {\n",
       "        text-align: right;\n",
       "    }\n",
       "</style>\n",
       "<table border=\"1\" class=\"dataframe\">\n",
       "  <thead>\n",
       "    <tr style=\"text-align: right;\">\n",
       "      <th></th>\n",
       "      <th>rating</th>\n",
       "      <th>founded</th>\n",
       "      <th>same_state</th>\n",
       "      <th>age</th>\n",
       "      <th>python_yn</th>\n",
       "      <th>r_yn</th>\n",
       "      <th>excel</th>\n",
       "      <th>aws</th>\n",
       "      <th>spark</th>\n",
       "    </tr>\n",
       "  </thead>\n",
       "  <tbody>\n",
       "    <tr>\n",
       "      <th>rating</th>\n",
       "      <td>1.000000</td>\n",
       "      <td>0.484295</td>\n",
       "      <td>0.033113</td>\n",
       "      <td>0.047302</td>\n",
       "      <td>0.102566</td>\n",
       "      <td>-0.002199</td>\n",
       "      <td>-0.021981</td>\n",
       "      <td>0.080478</td>\n",
       "      <td>0.065454</td>\n",
       "    </tr>\n",
       "    <tr>\n",
       "      <th>founded</th>\n",
       "      <td>0.484295</td>\n",
       "      <td>1.000000</td>\n",
       "      <td>0.142524</td>\n",
       "      <td>0.208101</td>\n",
       "      <td>0.066047</td>\n",
       "      <td>0.016513</td>\n",
       "      <td>-0.029295</td>\n",
       "      <td>-0.007923</td>\n",
       "      <td>0.020874</td>\n",
       "    </tr>\n",
       "    <tr>\n",
       "      <th>same_state</th>\n",
       "      <td>0.033113</td>\n",
       "      <td>0.142524</td>\n",
       "      <td>1.000000</td>\n",
       "      <td>-0.102405</td>\n",
       "      <td>-0.009482</td>\n",
       "      <td>-0.047148</td>\n",
       "      <td>0.116731</td>\n",
       "      <td>-0.036313</td>\n",
       "      <td>-0.065948</td>\n",
       "    </tr>\n",
       "    <tr>\n",
       "      <th>age</th>\n",
       "      <td>0.047302</td>\n",
       "      <td>0.208101</td>\n",
       "      <td>-0.102405</td>\n",
       "      <td>1.000000</td>\n",
       "      <td>-0.084315</td>\n",
       "      <td>-0.009551</td>\n",
       "      <td>0.037978</td>\n",
       "      <td>-0.045480</td>\n",
       "      <td>-0.075141</td>\n",
       "    </tr>\n",
       "    <tr>\n",
       "      <th>python_yn</th>\n",
       "      <td>0.102566</td>\n",
       "      <td>0.066047</td>\n",
       "      <td>-0.009482</td>\n",
       "      <td>-0.084315</td>\n",
       "      <td>1.000000</td>\n",
       "      <td>0.044094</td>\n",
       "      <td>-0.042507</td>\n",
       "      <td>0.165840</td>\n",
       "      <td>0.371526</td>\n",
       "    </tr>\n",
       "    <tr>\n",
       "      <th>r_yn</th>\n",
       "      <td>-0.002199</td>\n",
       "      <td>0.016513</td>\n",
       "      <td>-0.047148</td>\n",
       "      <td>-0.009551</td>\n",
       "      <td>0.044094</td>\n",
       "      <td>1.000000</td>\n",
       "      <td>0.045027</td>\n",
       "      <td>-0.026656</td>\n",
       "      <td>-0.024589</td>\n",
       "    </tr>\n",
       "    <tr>\n",
       "      <th>excel</th>\n",
       "      <td>-0.021981</td>\n",
       "      <td>-0.029295</td>\n",
       "      <td>0.116731</td>\n",
       "      <td>0.037978</td>\n",
       "      <td>-0.042507</td>\n",
       "      <td>0.045027</td>\n",
       "      <td>1.000000</td>\n",
       "      <td>-0.048242</td>\n",
       "      <td>-0.059187</td>\n",
       "    </tr>\n",
       "    <tr>\n",
       "      <th>aws</th>\n",
       "      <td>0.080478</td>\n",
       "      <td>-0.007923</td>\n",
       "      <td>-0.036313</td>\n",
       "      <td>-0.045480</td>\n",
       "      <td>0.165840</td>\n",
       "      <td>-0.026656</td>\n",
       "      <td>-0.048242</td>\n",
       "      <td>1.000000</td>\n",
       "      <td>0.287587</td>\n",
       "    </tr>\n",
       "    <tr>\n",
       "      <th>spark</th>\n",
       "      <td>0.065454</td>\n",
       "      <td>0.020874</td>\n",
       "      <td>-0.065948</td>\n",
       "      <td>-0.075141</td>\n",
       "      <td>0.371526</td>\n",
       "      <td>-0.024589</td>\n",
       "      <td>-0.059187</td>\n",
       "      <td>0.287587</td>\n",
       "      <td>1.000000</td>\n",
       "    </tr>\n",
       "  </tbody>\n",
       "</table>\n",
       "</div>"
      ],
      "text/plain": [
       "              rating   founded  same_state       age  python_yn      r_yn  \\\n",
       "rating      1.000000  0.484295    0.033113  0.047302   0.102566 -0.002199   \n",
       "founded     0.484295  1.000000    0.142524  0.208101   0.066047  0.016513   \n",
       "same_state  0.033113  0.142524    1.000000 -0.102405  -0.009482 -0.047148   \n",
       "age         0.047302  0.208101   -0.102405  1.000000  -0.084315 -0.009551   \n",
       "python_yn   0.102566  0.066047   -0.009482 -0.084315   1.000000  0.044094   \n",
       "r_yn       -0.002199  0.016513   -0.047148 -0.009551   0.044094  1.000000   \n",
       "excel      -0.021981 -0.029295    0.116731  0.037978  -0.042507  0.045027   \n",
       "aws         0.080478 -0.007923   -0.036313 -0.045480   0.165840 -0.026656   \n",
       "spark       0.065454  0.020874   -0.065948 -0.075141   0.371526 -0.024589   \n",
       "\n",
       "               excel       aws     spark  \n",
       "rating     -0.021981  0.080478  0.065454  \n",
       "founded    -0.029295 -0.007923  0.020874  \n",
       "same_state  0.116731 -0.036313 -0.065948  \n",
       "age         0.037978 -0.045480 -0.075141  \n",
       "python_yn  -0.042507  0.165840  0.371526  \n",
       "r_yn        0.045027 -0.026656 -0.024589  \n",
       "excel       1.000000 -0.048242 -0.059187  \n",
       "aws        -0.048242  1.000000  0.287587  \n",
       "spark      -0.059187  0.287587  1.000000  "
      ]
     },
     "execution_count": 94,
     "metadata": {},
     "output_type": "execute_result"
    }
   ],
   "source": [
    "df.corr()"
   ]
  },
  {
   "cell_type": "code",
   "execution_count": 98,
   "id": "1ebfcd56",
   "metadata": {},
   "outputs": [
    {
     "data": {
      "text/plain": [
       "<AxesSubplot:>"
      ]
     },
     "execution_count": 98,
     "metadata": {},
     "output_type": "execute_result"
    },
    {
     "data": {
      "image/png": "[encoded data removed]",
      "text/plain": [
       "<Figure size 1152x576 with 2 Axes>"
      ]
     },
     "metadata": {
      "needs_background": "light"
     },
     "output_type": "display_data"
    }
   ],
   "source": [
    "plt.figure(figsize=(16,8))\n",
    "sns.heatmap(data = round(df.corr() ,1) , annot=True)"
   ]
  },
  {
   "cell_type": "code",
   "execution_count": 102,
   "id": "704dc6f8",
   "metadata": {},
   "outputs": [
    {
     "data": {
      "text/plain": [
       "Company - Private                 0.556485\n",
       "Company - Public                  0.247908\n",
       "Nonprofit Organization            0.067992\n",
       "Subsidiary or Business Segment    0.041841\n",
       "Government                        0.017782\n",
       "Hospital                          0.015690\n",
       "College / University              0.015690\n",
       "Unknown                           0.011506\n",
       "-1                                0.011506\n",
       "Other Organization                0.005230\n",
       "Contract                          0.005230\n",
       "School / School District          0.002092\n",
       "Private Practice / Firm           0.001046\n",
       "Name: type of ownership, dtype: float64"
      ]
     },
     "execution_count": 102,
     "metadata": {},
     "output_type": "execute_result"
    }
   ],
   "source": [
    "df['type of ownership'].value_counts(normalize=True)"
   ]
  },
  {
   "cell_type": "code",
   "execution_count": 112,
   "id": "e16bee77",
   "metadata": {},
   "outputs": [],
   "source": [
    "df= df[df['type of ownership']!='-1']"
   ]
  },
  {
   "cell_type": "code",
   "execution_count": 113,
   "id": "7325a035",
   "metadata": {},
   "outputs": [
    {
     "data": {
      "text/plain": [
       "<AxesSubplot:ylabel='type of ownership'>"
      ]
     },
     "execution_count": 113,
     "metadata": {},
     "output_type": "execute_result"
    },
    {
     "data": {
      "image/png": "[encoded data removed]",
      "text/plain": [
       "<Figure size 1440x1080 with 1 Axes>"
      ]
     },
     "metadata": {},
     "output_type": "display_data"
    }
   ],
   "source": [
    "plt.figure(figsize=(20,15))\n",
    "df['type of ownership'].value_counts()[:10].plot(kind = 'pie' , autopct='%1.1f%%')"
   ]
  },
  {
   "cell_type": "code",
   "execution_count": 117,
   "id": "839564ab",
   "metadata": {},
   "outputs": [
    {
     "data": {
      "image/png": "[encoded data removed]",
      "text/plain": [
       "<Figure size 864x432 with 1 Axes>"
      ]
     },
     "metadata": {
      "needs_background": "light"
     },
     "output_type": "display_data"
    }
   ],
   "source": [
    "plt.figure(figsize=(12,6))\n",
    "g=sns.countplot(data = df , x = 'size')\n",
    "# plt.xticks(routation = 90)\n",
    "g.set_xticklabels(g.get_xticklabels(),rotation = 90, fontsize = 8.6);"
   ]
  },
  {
   "cell_type": "code",
   "execution_count": 118,
   "id": "1b53fa4e",
   "metadata": {},
   "outputs": [
    {
     "data": {
      "text/plain": [
       "<AxesSubplot:>"
      ]
     },
     "execution_count": 118,
     "metadata": {},
     "output_type": "execute_result"
    },
    {
     "name": "stderr",
     "output_type": "stream",
     "text": [
      "C:\\Users\\AL-FAJR\\anaconda3\\lib\\site-packages\\IPython\\core\\pylabtools.py:151: UserWarning: Glyph 13 (\r",
      ") missing from current font.\n",
      "  fig.canvas.print_figure(bytes_io, **kw)\n"
     ]
    },
    {
     "data": {
      "image/png": "[encoded data removed]",
      "text/plain": [
       "<Figure size 432x288 with 1 Axes>"
      ]
     },
     "metadata": {
      "needs_background": "light"
     },
     "output_type": "display_data"
    }
   ],
   "source": [
    "df.company_txt.value_counts()[:15].plot(kind = 'bar')"
   ]
  },
  {
   "cell_type": "code",
   "execution_count": 119,
   "id": "d1887326",
   "metadata": {},
   "outputs": [
    {
     "data": {
      "text/plain": [
       "<AxesSubplot:>"
      ]
     },
     "execution_count": 119,
     "metadata": {},
     "output_type": "execute_result"
    },
    {
     "data": {
      "image/png": "[encoded data removed]",
      "text/plain": [
       "<Figure size 432x288 with 1 Axes>"
      ]
     },
     "metadata": {
      "needs_background": "light"
     },
     "output_type": "display_data"
    }
   ],
   "source": [
    "df.same_state.value_counts().plot(kind = 'bar')"
   ]
  },
  {
   "cell_type": "code",
   "execution_count": 123,
   "id": "fbee1ff6",
   "metadata": {},
   "outputs": [],
   "source": [
    "df_cat = df[['location', 'headquarters', 'size','type of ownership', 'industry', 'sector', 'revenue', 'company_txt', 'job_state','same_state', 'python_yn', 'r_yn',\n",
    "       'spark', 'aws', 'excel']]"
   ]
  },
  {
   "cell_type": "code",
   "execution_count": 142,
   "id": "a2ee866e",
   "metadata": {},
   "outputs": [
    {
     "data": {
      "image/png": "[encoded data removed]",
      "text/plain": [
       "<Figure size 720x432 with 1 Axes>"
      ]
     },
     "metadata": {
      "needs_background": "light"
     },
     "output_type": "display_data"
    },
    {
     "name": "stdout",
     "output_type": "stream",
     "text": [
      "\n",
      "\n"
     ]
    },
    {
     "data": {
      "image/png": "[encoded data removed]",
      "text/plain": [
       "<Figure size 720x432 with 1 Axes>"
      ]
     },
     "metadata": {
      "needs_background": "light"
     },
     "output_type": "display_data"
    },
    {
     "name": "stdout",
     "output_type": "stream",
     "text": [
      "\n",
      "\n"
     ]
    },
    {
     "data": {
      "image/png": "[encoded data removed]",
      "text/plain": [
       "<Figure size 720x432 with 1 Axes>"
      ]
     },
     "metadata": {
      "needs_background": "light"
     },
     "output_type": "display_data"
    },
    {
     "name": "stdout",
     "output_type": "stream",
     "text": [
      "\n",
      "\n"
     ]
    },
    {
     "data": {
      "image/png": "[encoded data removed]",
      "text/plain": [
       "<Figure size 720x432 with 1 Axes>"
      ]
     },
     "metadata": {
      "needs_background": "light"
     },
     "output_type": "display_data"
    },
    {
     "name": "stdout",
     "output_type": "stream",
     "text": [
      "\n",
      "\n"
     ]
    },
    {
     "data": {
      "image/png": "[encoded data removed]",
      "text/plain": [
       "<Figure size 720x432 with 1 Axes>"
      ]
     },
     "metadata": {
      "needs_background": "light"
     },
     "output_type": "display_data"
    },
    {
     "name": "stdout",
     "output_type": "stream",
     "text": [
      "\n",
      "\n"
     ]
    },
    {
     "data": {
      "image/png": "[encoded data removed]",
      "text/plain": [
       "<Figure size 720x432 with 1 Axes>"
      ]
     },
     "metadata": {
      "needs_background": "light"
     },
     "output_type": "display_data"
    },
    {
     "name": "stdout",
     "output_type": "stream",
     "text": [
      "\n",
      "\n"
     ]
    },
    {
     "data": {
      "image/png": "[encoded data removed]",
      "text/plain": [
       "<Figure size 720x432 with 1 Axes>"
      ]
     },
     "metadata": {
      "needs_background": "light"
     },
     "output_type": "display_data"
    },
    {
     "name": "stdout",
     "output_type": "stream",
     "text": [
      "\n",
      "\n"
     ]
    },
    {
     "name": "stderr",
     "output_type": "stream",
     "text": [
      "C:\\Users\\AL-FAJR\\anaconda3\\lib\\site-packages\\IPython\\core\\pylabtools.py:151: UserWarning: Glyph 13 (\r",
      ") missing from current font.\n",
      "  fig.canvas.print_figure(bytes_io, **kw)\n"
     ]
    },
    {
     "data": {
      "image/png": "[encoded data removed]",
      "text/plain": [
       "<Figure size 720x432 with 1 Axes>"
      ]
     },
     "metadata": {
      "needs_background": "light"
     },
     "output_type": "display_data"
    },
    {
     "name": "stdout",
     "output_type": "stream",
     "text": [
      "\n",
      "\n"
     ]
    },
    {
     "data": {
      "image/png": "[encoded data removed]",
      "text/plain": [
       "<Figure size 720x432 with 1 Axes>"
      ]
     },
     "metadata": {
      "needs_background": "light"
     },
     "output_type": "display_data"
    },
    {
     "name": "stdout",
     "output_type": "stream",
     "text": [
      "\n",
      "\n"
     ]
    },
    {
     "data": {
      "image/png": "[encoded data removed]",
      "text/plain": [
       "<Figure size 720x432 with 1 Axes>"
      ]
     },
     "metadata": {
      "needs_background": "light"
     },
     "output_type": "display_data"
    },
    {
     "name": "stdout",
     "output_type": "stream",
     "text": [
      "\n",
      "\n"
     ]
    },
    {
     "data": {
      "image/png": "[encoded data removed]",
      "text/plain": [
       "<Figure size 720x432 with 1 Axes>"
      ]
     },
     "metadata": {
      "needs_background": "light"
     },
     "output_type": "display_data"
    },
    {
     "name": "stdout",
     "output_type": "stream",
     "text": [
      "\n",
      "\n"
     ]
    },
    {
     "data": {
      "image/png": "[encoded data removed]",
      "text/plain": [
       "<Figure size 720x432 with 1 Axes>"
      ]
     },
     "metadata": {
      "needs_background": "light"
     },
     "output_type": "display_data"
    },
    {
     "name": "stdout",
     "output_type": "stream",
     "text": [
      "\n",
      "\n"
     ]
    },
    {
     "data": {
      "image/png": "[encoded data removed]",
      "text/plain": [
       "<Figure size 720x432 with 1 Axes>"
      ]
     },
     "metadata": {
      "needs_background": "light"
     },
     "output_type": "display_data"
    },
    {
     "name": "stdout",
     "output_type": "stream",
     "text": [
      "\n",
      "\n"
     ]
    },
    {
     "data": {
      "image/png": "[encoded data removed]",
      "text/plain": [
       "<Figure size 720x432 with 1 Axes>"
      ]
     },
     "metadata": {
      "needs_background": "light"
     },
     "output_type": "display_data"
    },
    {
     "name": "stdout",
     "output_type": "stream",
     "text": [
      "\n",
      "\n"
     ]
    },
    {
     "data": {
      "image/png": "[encoded data removed]",
      "text/plain": [
       "<Figure size 720x432 with 1 Axes>"
      ]
     },
     "metadata": {
      "needs_background": "light"
     },
     "output_type": "display_data"
    },
    {
     "name": "stdout",
     "output_type": "stream",
     "text": [
      "\n",
      "\n"
     ]
    }
   ],
   "source": [
    "for i in df_cat.columns:\n",
    "    plt.figure(figsize=(10,6))\n",
    "    cat_num = df_cat[i].value_counts()[:15].plot(kind = 'bar',fontsize = 15);\n",
    "    cat_num.set_xticklabels(cat_num.get_xticklabels(),rotation = 90, fontsize = 8.6);\n",
    "    plt.xlabel(i,fontsize = 15);\n",
    "    plt.ylabel(' Vs show rate ',fontsize = 15);\n",
    "    plt.show()\n",
    "    print(\"\\n\")"
   ]
  },
  {
   "cell_type": "code",
   "execution_count": null,
   "id": "8001d10d",
   "metadata": {},
   "outputs": [],
   "source": []
  },
  {
   "cell_type": "code",
   "execution_count": null,
   "id": "dfd50729",
   "metadata": {},
   "outputs": [],
   "source": []
  },
  {
   "cell_type": "code",
   "execution_count": null,
   "id": "ea19a600",
   "metadata": {},
   "outputs": [],
   "source": []
  }
 ],
 "metadata": {
  "kernelspec": {
   "display_name": "Python 3 (ipykernel)",
   "language": "python",
   "name": "python3"
  },
  "language_info": {
   "codemirror_mode": {
    "name": "ipython",
    "version": 3
   },
   "file_extension": ".py",
   "mimetype": "text/x-python",
   "name": "python",
   "nbconvert_exporter": "python",
   "pygments_lexer": "ipython3",
   "version": "3.9.12"
  }
 },
 "nbformat": 4,
 "nbformat_minor": 5
}
